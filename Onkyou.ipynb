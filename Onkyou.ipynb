{
  "cells": [
    {
      "cell_type": "markdown",
      "metadata": {
        "id": "view-in-github",
        "colab_type": "text"
      },
      "source": [
        "<a href=\"https://colab.research.google.com/github/Galmieux/Onkyou/blob/main/Onkyou.ipynb\" target=\"_parent\"><img src=\"https://colab.research.google.com/assets/colab-badge.svg\" alt=\"Open In Colab\"/></a>"
      ]
    },
    {
      "cell_type": "markdown",
      "source": [
        "# 2. 二重壁・三重壁の低域共鳴周波数"
      ],
      "metadata": {
        "id": "teS1N5fFvxza"
      }
    },
    {
      "cell_type": "markdown",
      "source": [
        "## 2.1 二重壁\n",
        "空気層の伝達マトリックス$ \\ F_{air} $は次のように書ける。\n",
        "\n",
        "$$\n",
        "F_{air}=\n",
        "        \\left(\\begin{array}{c}\n",
        "            \\cos \\beta  & j\\rho c \\sinβ\\\\\n",
        "            j\\frac{1}{\\rho c} \\sin \\beta  & \\cosβ\\\\\n",
        "        \\end{array}\\right) \\quad\n",
        "$$\n"
      ],
      "metadata": {
        "id": "8WnR9aEole2r"
      }
    },
    {
      "cell_type": "code",
      "source": [
        "# 最初に必ずこのセルを実行。必要なモジュールをインストール。\n",
        "import numpy as np\n",
        "import sympy as sp\n",
        "print('np_ver =',np.__version__)"
      ],
      "metadata": {
        "colab": {
          "base_uri": "https://localhost:8080/"
        },
        "id": "mB1SDSD9xL_D",
        "outputId": "534c467c-1986-4ac6-9393-9fe633f2bb1c"
      },
      "execution_count": 8,
      "outputs": [
        {
          "output_type": "stream",
          "name": "stdout",
          "text": [
            "np_ver = 1.26.4\n"
          ]
        }
      ]
    },
    {
      "cell_type": "code",
      "source": [
        "# 変数のまま計算\n",
        "\n",
        "beta, rho, c, k, l, theta, z_p, m, omega, f, m_1, m_2, m_3, beta1,beta2= sp.symbols('beta, rho, c, k, l, theta, z_p, m, omega, f, m_1, m_2, m_3, beta1, beta2')\n",
        "\n",
        "F_air = sp.Matrix([[sp.cos(beta), sp.I * rho * c * sp.sin(beta)],\n",
        "                   [sp.I / rho / c * sp.sin(beta), sp.cos(beta)]])\n",
        "sp.init_printing()\n",
        "display('F_air =',F_air)"
      ],
      "metadata": {
        "colab": {
          "base_uri": "https://localhost:8080/",
          "height": 86
        },
        "id": "FJDE9Nu-57fF",
        "outputId": "f2766ce7-10a7-4383-b629-e209c296c928"
      },
      "execution_count": 17,
      "outputs": [
        {
          "output_type": "display_data",
          "data": {
            "text/plain": [
              "'F_air ='"
            ],
            "application/vnd.google.colaboratory.intrinsic+json": {
              "type": "string"
            }
          },
          "metadata": {}
        },
        {
          "output_type": "display_data",
          "data": {
            "text/plain": [
              "⎡ cos(β)   ⅈ⋅c⋅ρ⋅sin(β)⎤\n",
              "⎢                      ⎥\n",
              "⎢ⅈ⋅sin(β)              ⎥\n",
              "⎢────────     cos(β)   ⎥\n",
              "⎣  c⋅ρ                 ⎦"
            ],
            "text/latex": "$\\displaystyle \\left[\\begin{matrix}\\cos{\\left(\\beta \\right)} & i c \\rho \\sin{\\left(\\beta \\right)}\\\\\\frac{i \\sin{\\left(\\beta \\right)}}{c \\rho} & \\cos{\\left(\\beta \\right)}\\end{matrix}\\right]$"
          },
          "metadata": {}
        }
      ]
    },
    {
      "cell_type": "code",
      "source": [
        "F_plate = sp.Matrix([[1, z_p],\n",
        "                   [0, 1]])\n",
        "sp.init_printing()\n",
        "display('F_plate =',F_plate)\n",
        "\n",
        "# z_p = sp.I * m * omega\n",
        "# omega = 2 * sp.pi * f\n",
        "\n",
        "F_plate1 = sp.Matrix([[1, sp.I * m_1 * omega],\n",
        "                   [0, 1]])\n",
        "F_plate2 = sp.Matrix([[1, sp.I * m_2 * omega],\n",
        "                   [0, 1]])\n",
        "display('F_plate1 =',F_plate1)\n",
        "display('F_plate2 =',F_plate2)"
      ],
      "metadata": {
        "colab": {
          "base_uri": "https://localhost:8080/",
          "height": 194
        },
        "id": "Plv4BT2f_fcZ",
        "outputId": "6fa479b2-768c-4440-9608-c1b18b7158cd"
      },
      "execution_count": 3,
      "outputs": [
        {
          "output_type": "display_data",
          "data": {
            "text/plain": [
              "'F_plate ='"
            ],
            "application/vnd.google.colaboratory.intrinsic+json": {
              "type": "string"
            }
          },
          "metadata": {}
        },
        {
          "output_type": "display_data",
          "data": {
            "text/plain": [
              "⎡1  zₚ⎤\n",
              "⎢     ⎥\n",
              "⎣0  1 ⎦"
            ],
            "text/latex": "$\\displaystyle \\left[\\begin{matrix}1 & z_{p}\\\\0 & 1\\end{matrix}\\right]$"
          },
          "metadata": {}
        },
        {
          "output_type": "display_data",
          "data": {
            "text/plain": [
              "'F_plate1 ='"
            ],
            "application/vnd.google.colaboratory.intrinsic+json": {
              "type": "string"
            }
          },
          "metadata": {}
        },
        {
          "output_type": "display_data",
          "data": {
            "text/plain": [
              "⎡1  ⅈ⋅m₁⋅ω⎤\n",
              "⎢         ⎥\n",
              "⎣0    1   ⎦"
            ],
            "text/latex": "$\\displaystyle \\left[\\begin{matrix}1 & i m_{1} \\omega\\\\0 & 1\\end{matrix}\\right]$"
          },
          "metadata": {}
        },
        {
          "output_type": "display_data",
          "data": {
            "text/plain": [
              "'F_plate2 ='"
            ],
            "application/vnd.google.colaboratory.intrinsic+json": {
              "type": "string"
            }
          },
          "metadata": {}
        },
        {
          "output_type": "display_data",
          "data": {
            "text/plain": [
              "⎡1  ⅈ⋅m₂⋅ω⎤\n",
              "⎢         ⎥\n",
              "⎣0    1   ⎦"
            ],
            "text/latex": "$\\displaystyle \\left[\\begin{matrix}1 & i m_{2} \\omega\\\\0 & 1\\end{matrix}\\right]$"
          },
          "metadata": {}
        }
      ]
    },
    {
      "cell_type": "code",
      "source": [
        "F2 = F_plate1 * F_air * F_plate2\n",
        "display('F2 =',F2)\n",
        "\n",
        "A2 = F2[0,0]\n",
        "B2 = F2[0,1]\n",
        "C2 = F2[1,0]\n",
        "D2 = F2[1,1]\n",
        "display('A2 =',A2)\n",
        "display('B2 =',B2)\n",
        "display('C2 =',C2)\n",
        "display('D2 =',D2)"
      ],
      "metadata": {
        "colab": {
          "base_uri": "https://localhost:8080/",
          "height": 322
        },
        "id": "TOCTqUK_GWwU",
        "outputId": "83a48f97-72f8-4c21-98c6-2e0403a97fd0"
      },
      "execution_count": 26,
      "outputs": [
        {
          "output_type": "display_data",
          "data": {
            "text/plain": [
              "'F2 ='"
            ],
            "application/vnd.google.colaboratory.intrinsic+json": {
              "type": "string"
            }
          },
          "metadata": {}
        },
        {
          "output_type": "display_data",
          "data": {
            "text/plain": [
              "⎡         m₁⋅ω⋅sin(β)                                        ⎛         m₁⋅ω⋅sin(β)⎞⎤\n",
              "⎢cos(β) - ───────────  ⅈ⋅c⋅ρ⋅sin(β) + ⅈ⋅m₁⋅ω⋅cos(β) + ⅈ⋅m₂⋅ω⋅⎜cos(β) - ───────────⎟⎥\n",
              "⎢             c⋅ρ                                            ⎝             c⋅ρ    ⎠⎥\n",
              "⎢                                                                                  ⎥\n",
              "⎢      ⅈ⋅sin(β)                                     m₂⋅ω⋅sin(β)                    ⎥\n",
              "⎢      ────────                            cos(β) - ───────────                    ⎥\n",
              "⎣        c⋅ρ                                            c⋅ρ                        ⎦"
            ],
            "text/latex": "$\\displaystyle \\left[\\begin{matrix}\\cos{\\left(\\beta \\right)} - \\frac{m_{1} \\omega \\sin{\\left(\\beta \\right)}}{c \\rho} & i c \\rho \\sin{\\left(\\beta \\right)} + i m_{1} \\omega \\cos{\\left(\\beta \\right)} + i m_{2} \\omega \\left(\\cos{\\left(\\beta \\right)} - \\frac{m_{1} \\omega \\sin{\\left(\\beta \\right)}}{c \\rho}\\right)\\\\\\frac{i \\sin{\\left(\\beta \\right)}}{c \\rho} & \\cos{\\left(\\beta \\right)} - \\frac{m_{2} \\omega \\sin{\\left(\\beta \\right)}}{c \\rho}\\end{matrix}\\right]$"
          },
          "metadata": {}
        },
        {
          "output_type": "display_data",
          "data": {
            "text/plain": [
              "'A2 ='"
            ],
            "application/vnd.google.colaboratory.intrinsic+json": {
              "type": "string"
            }
          },
          "metadata": {}
        },
        {
          "output_type": "display_data",
          "data": {
            "text/plain": [
              "         m₁⋅ω⋅sin(β)\n",
              "cos(β) - ───────────\n",
              "             c⋅ρ    "
            ],
            "text/latex": "$\\displaystyle \\cos{\\left(\\beta \\right)} - \\frac{m_{1} \\omega \\sin{\\left(\\beta \\right)}}{c \\rho}$"
          },
          "metadata": {}
        },
        {
          "output_type": "display_data",
          "data": {
            "text/plain": [
              "'B2 ='"
            ],
            "application/vnd.google.colaboratory.intrinsic+json": {
              "type": "string"
            }
          },
          "metadata": {}
        },
        {
          "output_type": "display_data",
          "data": {
            "text/plain": [
              "                                      ⎛         m₁⋅ω⋅sin(β)⎞\n",
              "ⅈ⋅c⋅ρ⋅sin(β) + ⅈ⋅m₁⋅ω⋅cos(β) + ⅈ⋅m₂⋅ω⋅⎜cos(β) - ───────────⎟\n",
              "                                      ⎝             c⋅ρ    ⎠"
            ],
            "text/latex": "$\\displaystyle i c \\rho \\sin{\\left(\\beta \\right)} + i m_{1} \\omega \\cos{\\left(\\beta \\right)} + i m_{2} \\omega \\left(\\cos{\\left(\\beta \\right)} - \\frac{m_{1} \\omega \\sin{\\left(\\beta \\right)}}{c \\rho}\\right)$"
          },
          "metadata": {}
        },
        {
          "output_type": "display_data",
          "data": {
            "text/plain": [
              "'C2 ='"
            ],
            "application/vnd.google.colaboratory.intrinsic+json": {
              "type": "string"
            }
          },
          "metadata": {}
        },
        {
          "output_type": "display_data",
          "data": {
            "text/plain": [
              "ⅈ⋅sin(β)\n",
              "────────\n",
              "  c⋅ρ   "
            ],
            "text/latex": "$\\displaystyle \\frac{i \\sin{\\left(\\beta \\right)}}{c \\rho}$"
          },
          "metadata": {}
        },
        {
          "output_type": "display_data",
          "data": {
            "text/plain": [
              "'D2 ='"
            ],
            "application/vnd.google.colaboratory.intrinsic+json": {
              "type": "string"
            }
          },
          "metadata": {}
        },
        {
          "output_type": "display_data",
          "data": {
            "text/plain": [
              "         m₂⋅ω⋅sin(β)\n",
              "cos(β) - ───────────\n",
              "             c⋅ρ    "
            ],
            "text/latex": "$\\displaystyle \\cos{\\left(\\beta \\right)} - \\frac{m_{2} \\omega \\sin{\\left(\\beta \\right)}}{c \\rho}$"
          },
          "metadata": {}
        }
      ]
    },
    {
      "cell_type": "code",
      "source": [
        "tau_theta = 4 * (sp.Abs(A2 + B2 * sp.cos(theta) / rho / c + C2 * rho * c / sp.cos(theta) + D2)) ** (-2)\n",
        "display('tau_theta =',tau_theta)"
      ],
      "metadata": {
        "colab": {
          "base_uri": "https://localhost:8080/",
          "height": 101
        },
        "id": "dWXccT4rJXo7",
        "outputId": "589ca489-70d7-40ab-fa0b-c792fdd23a16"
      },
      "execution_count": 27,
      "outputs": [
        {
          "output_type": "display_data",
          "data": {
            "text/plain": [
              "'tau_theta ='"
            ],
            "application/vnd.google.colaboratory.intrinsic+json": {
              "type": "string"
            }
          },
          "metadata": {}
        },
        {
          "output_type": "display_data",
          "data": {
            "text/plain": [
              "                                                            4                                      ↪\n",
              "────────────────────────────────────────────────────────────────────────────────────────────────── ↪\n",
              "                                                                                                   ↪\n",
              "│                                                  ⎛                                      ⎛        ↪\n",
              "│                                                  ⎜ⅈ⋅c⋅ρ⋅sin(β) + ⅈ⋅m₁⋅ω⋅cos(β) + ⅈ⋅m₂⋅ω⋅⎜cos(β)  ↪\n",
              "│ⅈ⋅sin(β)              m₁⋅ω⋅sin(β)   m₂⋅ω⋅sin(β)   ⎝                                      ⎝        ↪\n",
              "│──────── + 2⋅cos(β) - ─────────── - ─────────── + ─────────────────────────────────────────────── ↪\n",
              "│ cos(θ)                   c⋅ρ           c⋅ρ                                        c⋅ρ            ↪\n",
              "\n",
              "↪                         \n",
              "↪ ────────────────────────\n",
              "↪                        2\n",
              "↪   m₁⋅ω⋅sin(β)⎞⎞       │ \n",
              "↪ - ───────────⎟⎟⋅cos(θ)│ \n",
              "↪       c⋅ρ    ⎠⎠       │ \n",
              "↪ ──────────────────────│ \n",
              "↪                       │ "
            ],
            "text/latex": "$\\displaystyle \\frac{4}{\\left|{\\frac{i \\sin{\\left(\\beta \\right)}}{\\cos{\\left(\\theta \\right)}} + 2 \\cos{\\left(\\beta \\right)} - \\frac{m_{1} \\omega \\sin{\\left(\\beta \\right)}}{c \\rho} - \\frac{m_{2} \\omega \\sin{\\left(\\beta \\right)}}{c \\rho} + \\frac{\\left(i c \\rho \\sin{\\left(\\beta \\right)} + i m_{1} \\omega \\cos{\\left(\\beta \\right)} + i m_{2} \\omega \\left(\\cos{\\left(\\beta \\right)} - \\frac{m_{1} \\omega \\sin{\\left(\\beta \\right)}}{c \\rho}\\right)\\right) \\cos{\\left(\\theta \\right)}}{c \\rho}}\\right|^{2}}$"
          },
          "metadata": {}
        }
      ]
    },
    {
      "cell_type": "code",
      "source": [
        "TL_theta = 10 * sp.log(1 / tau_theta)\n",
        "display('TL_theta =',TL_theta)"
      ],
      "metadata": {
        "colab": {
          "base_uri": "https://localhost:8080/",
          "height": 129
        },
        "id": "wLhOsPEQL9Av",
        "outputId": "a478fcf4-679c-459e-9272-123504e684dd"
      },
      "execution_count": 28,
      "outputs": [
        {
          "output_type": "display_data",
          "data": {
            "text/plain": [
              "'TL_theta ='"
            ],
            "application/vnd.google.colaboratory.intrinsic+json": {
              "type": "string"
            }
          },
          "metadata": {}
        },
        {
          "output_type": "display_data",
          "data": {
            "text/plain": [
              "      ⎛                                                                                            ↪\n",
              "      ⎜│                                                  ⎛                                      ⎛ ↪\n",
              "      ⎜│                                                  ⎜ⅈ⋅c⋅ρ⋅sin(β) + ⅈ⋅m₁⋅ω⋅cos(β) + ⅈ⋅m₂⋅ω⋅⎜ ↪\n",
              "      ⎜│ⅈ⋅sin(β)              m₁⋅ω⋅sin(β)   m₂⋅ω⋅sin(β)   ⎝                                      ⎝ ↪\n",
              "      ⎜│──────── + 2⋅cos(β) - ─────────── - ─────────── + ──────────────────────────────────────── ↪\n",
              "      ⎜│ cos(θ)                   c⋅ρ           c⋅ρ                                        c⋅ρ     ↪\n",
              "10⋅log⎜─────────────────────────────────────────────────────────────────────────────────────────── ↪\n",
              "      ⎝                                                            4                               ↪\n",
              "\n",
              "↪                               2⎞\n",
              "↪          m₁⋅ω⋅sin(β)⎞⎞       │ ⎟\n",
              "↪ cos(β) - ───────────⎟⎟⋅cos(θ)│ ⎟\n",
              "↪              c⋅ρ    ⎠⎠       │ ⎟\n",
              "↪ ─────────────────────────────│ ⎟\n",
              "↪                              │ ⎟\n",
              "↪ ───────────────────────────────⎟\n",
              "↪                                ⎠"
            ],
            "text/latex": "$\\displaystyle 10 \\log{\\left(\\frac{\\left|{\\frac{i \\sin{\\left(\\beta \\right)}}{\\cos{\\left(\\theta \\right)}} + 2 \\cos{\\left(\\beta \\right)} - \\frac{m_{1} \\omega \\sin{\\left(\\beta \\right)}}{c \\rho} - \\frac{m_{2} \\omega \\sin{\\left(\\beta \\right)}}{c \\rho} + \\frac{\\left(i c \\rho \\sin{\\left(\\beta \\right)} + i m_{1} \\omega \\cos{\\left(\\beta \\right)} + i m_{2} \\omega \\left(\\cos{\\left(\\beta \\right)} - \\frac{m_{1} \\omega \\sin{\\left(\\beta \\right)}}{c \\rho}\\right)\\right) \\cos{\\left(\\theta \\right)}}{c \\rho}}\\right|^{2}}{4} \\right)}$"
          },
          "metadata": {}
        }
      ]
    },
    {
      "cell_type": "code",
      "source": [
        "\n",
        "\n",
        "Answer2 = 10 * sp.log(1 + ((omega / (2 * rho * c * sp.cos(theta))) ** 2) * ((m_1 + m_2) * sp.cos(beta) - (omega / (rho * c * sp.cos(theta))) * m_1 * m_2 * sp.sin(beta)) ** 2 + ((omega / (2 * rho * c * sp.cos(theta))) ** 2) * ((m_1 - m_2) ** 2) * (sp.sin(beta)) ** 2)\n",
        "display('Answer2 =',Answer2)"
      ],
      "metadata": {
        "colab": {
          "base_uri": "https://localhost:8080/",
          "height": 107
        },
        "id": "m8GWne0aP_54",
        "outputId": "c22e46e0-4411-49d6-a2c5-2de354b80cb0"
      },
      "execution_count": 30,
      "outputs": [
        {
          "output_type": "display_data",
          "data": {
            "text/plain": [
              "'Answer2 ='"
            ],
            "application/vnd.google.colaboratory.intrinsic+json": {
              "type": "string"
            }
          },
          "metadata": {}
        },
        {
          "output_type": "display_data",
          "data": {
            "text/plain": [
              "      ⎛                                                                  2⎞\n",
              "      ⎜                             2 ⎛                   m₁⋅m₂⋅ω⋅sin(β)⎞ ⎟\n",
              "      ⎜     2          2    2      ω ⋅⎜(m₁ + m₂)⋅cos(β) - ──────────────⎟ ⎟\n",
              "      ⎜    ω ⋅(m₁ - m₂) ⋅sin (β)      ⎝                     c⋅ρ⋅cos(θ)  ⎠ ⎟\n",
              "10⋅log⎜1 + ───────────────────── + ───────────────────────────────────────⎟\n",
              "      ⎜          2  2    2                        2  2    2               ⎟\n",
              "      ⎝       4⋅c ⋅ρ ⋅cos (θ)                  4⋅c ⋅ρ ⋅cos (θ)            ⎠"
            ],
            "text/latex": "$\\displaystyle 10 \\log{\\left(1 + \\frac{\\omega^{2} \\left(m_{1} - m_{2}\\right)^{2} \\sin^{2}{\\left(\\beta \\right)}}{4 c^{2} \\rho^{2} \\cos^{2}{\\left(\\theta \\right)}} + \\frac{\\omega^{2} \\left(\\left(m_{1} + m_{2}\\right) \\cos{\\left(\\beta \\right)} - \\frac{m_{1} m_{2} \\omega \\sin{\\left(\\beta \\right)}}{c \\rho \\cos{\\left(\\theta \\right)}}\\right)^{2}}{4 c^{2} \\rho^{2} \\cos^{2}{\\left(\\theta \\right)}} \\right)}$"
          },
          "metadata": {}
        }
      ]
    },
    {
      "cell_type": "code",
      "source": [
        "print(bool(TL_theta == Answer))"
      ],
      "metadata": {
        "colab": {
          "base_uri": "https://localhost:8080/"
        },
        "id": "m5nJOPmBSiBU",
        "outputId": "d05304fb-e42b-4f23-ed74-f0bb5bf84361"
      },
      "execution_count": 12,
      "outputs": [
        {
          "output_type": "stream",
          "name": "stdout",
          "text": [
            "False\n"
          ]
        }
      ]
    },
    {
      "cell_type": "code",
      "source": [
        "if TL_theta == Answer2:\n",
        "    print('OK')\n",
        "else:\n",
        "    print('NG')"
      ],
      "metadata": {
        "colab": {
          "base_uri": "https://localhost:8080/"
        },
        "id": "_MJH0MXaTo1S",
        "outputId": "131f34d7-2e75-4370-f1ca-fb94124e70ed"
      },
      "execution_count": 31,
      "outputs": [
        {
          "output_type": "stream",
          "name": "stdout",
          "text": [
            "NG\n"
          ]
        }
      ]
    },
    {
      "cell_type": "markdown",
      "source": [
        "## 2.2 三重壁\n",
        "\n"
      ],
      "metadata": {
        "id": "qjdh1vX-7llT"
      }
    },
    {
      "cell_type": "code",
      "source": [
        "F_plate1 = sp.Matrix([[1, sp.I * m_1 * omega],\n",
        "                   [0, 1]])\n",
        "F_plate2 = sp.Matrix([[1, sp.I * m_2 * omega],\n",
        "                   [0, 1]])\n",
        "F_plate3 = sp.Matrix([[1, sp.I * m_3 * omega],\n",
        "                   [0, 1]])\n",
        "F_air1 = sp.Matrix([[sp.cos(beta1), sp.I * rho * c * sp.sin(beta1)],\n",
        "                   [sp.I / rho / c * sp.sin(beta1), sp.cos(beta1)]])\n",
        "\n",
        "F_air2 = sp.Matrix([[sp.cos(beta2), sp.I * rho * c * sp.sin(beta2)],\n",
        "                   [sp.I / rho / c * sp.sin(beta2), sp.cos(beta2)]])\n",
        "\n",
        "display('F_plate1 =',F_plate1)\n",
        "display('F_plate2 =',F_plate2)\n",
        "display('F_plate3 =',F_plate3)\n",
        "display('F_air1 =',F_air1)\n",
        "display('F_air2 =',F_air2)"
      ],
      "metadata": {
        "id": "FhWZiiCP76QF",
        "outputId": "cba51e6c-5499-4fcd-ce55-747757502079",
        "colab": {
          "base_uri": "https://localhost:8080/",
          "height": 332
        }
      },
      "execution_count": 32,
      "outputs": [
        {
          "output_type": "display_data",
          "data": {
            "text/plain": [
              "'F_plate1 ='"
            ],
            "application/vnd.google.colaboratory.intrinsic+json": {
              "type": "string"
            }
          },
          "metadata": {}
        },
        {
          "output_type": "display_data",
          "data": {
            "text/plain": [
              "⎡1  ⅈ⋅m₁⋅ω⎤\n",
              "⎢         ⎥\n",
              "⎣0    1   ⎦"
            ],
            "text/latex": "$\\displaystyle \\left[\\begin{matrix}1 & i m_{1} \\omega\\\\0 & 1\\end{matrix}\\right]$"
          },
          "metadata": {}
        },
        {
          "output_type": "display_data",
          "data": {
            "text/plain": [
              "'F_plate2 ='"
            ],
            "application/vnd.google.colaboratory.intrinsic+json": {
              "type": "string"
            }
          },
          "metadata": {}
        },
        {
          "output_type": "display_data",
          "data": {
            "text/plain": [
              "⎡1  ⅈ⋅m₂⋅ω⎤\n",
              "⎢         ⎥\n",
              "⎣0    1   ⎦"
            ],
            "text/latex": "$\\displaystyle \\left[\\begin{matrix}1 & i m_{2} \\omega\\\\0 & 1\\end{matrix}\\right]$"
          },
          "metadata": {}
        },
        {
          "output_type": "display_data",
          "data": {
            "text/plain": [
              "'F_plate3 ='"
            ],
            "application/vnd.google.colaboratory.intrinsic+json": {
              "type": "string"
            }
          },
          "metadata": {}
        },
        {
          "output_type": "display_data",
          "data": {
            "text/plain": [
              "⎡1  ⅈ⋅m₃⋅ω⎤\n",
              "⎢         ⎥\n",
              "⎣0    1   ⎦"
            ],
            "text/latex": "$\\displaystyle \\left[\\begin{matrix}1 & i m_{3} \\omega\\\\0 & 1\\end{matrix}\\right]$"
          },
          "metadata": {}
        },
        {
          "output_type": "display_data",
          "data": {
            "text/plain": [
              "'F_air1 ='"
            ],
            "application/vnd.google.colaboratory.intrinsic+json": {
              "type": "string"
            }
          },
          "metadata": {}
        },
        {
          "output_type": "display_data",
          "data": {
            "text/plain": [
              "⎡ cos(β₁)   ⅈ⋅c⋅ρ⋅sin(β₁)⎤\n",
              "⎢                        ⎥\n",
              "⎢ⅈ⋅sin(β₁)               ⎥\n",
              "⎢─────────     cos(β₁)   ⎥\n",
              "⎣   c⋅ρ                  ⎦"
            ],
            "text/latex": "$\\displaystyle \\left[\\begin{matrix}\\cos{\\left(\\beta_{1} \\right)} & i c \\rho \\sin{\\left(\\beta_{1} \\right)}\\\\\\frac{i \\sin{\\left(\\beta_{1} \\right)}}{c \\rho} & \\cos{\\left(\\beta_{1} \\right)}\\end{matrix}\\right]$"
          },
          "metadata": {}
        },
        {
          "output_type": "display_data",
          "data": {
            "text/plain": [
              "'F_air2 ='"
            ],
            "application/vnd.google.colaboratory.intrinsic+json": {
              "type": "string"
            }
          },
          "metadata": {}
        },
        {
          "output_type": "display_data",
          "data": {
            "text/plain": [
              "⎡ cos(β₂)   ⅈ⋅c⋅ρ⋅sin(β₂)⎤\n",
              "⎢                        ⎥\n",
              "⎢ⅈ⋅sin(β₂)               ⎥\n",
              "⎢─────────     cos(β₂)   ⎥\n",
              "⎣   c⋅ρ                  ⎦"
            ],
            "text/latex": "$\\displaystyle \\left[\\begin{matrix}\\cos{\\left(\\beta_{2} \\right)} & i c \\rho \\sin{\\left(\\beta_{2} \\right)}\\\\\\frac{i \\sin{\\left(\\beta_{2} \\right)}}{c \\rho} & \\cos{\\left(\\beta_{2} \\right)}\\end{matrix}\\right]$"
          },
          "metadata": {}
        }
      ]
    },
    {
      "cell_type": "code",
      "source": [
        "F3 = F_plate1 * F_air1 * F_plate2 * F_air2 * F_plate3\n",
        "\n",
        "A3 = F3[0,0]\n",
        "B3 = F3[0,1]\n",
        "C3 = F3[1,0]\n",
        "D3 = F3[1,1]\n",
        "\n",
        "display('A3 =',A3)\n",
        "display('B3 =',B3)\n",
        "display('C3 =',C3)\n",
        "display('D3 =',D3)"
      ],
      "metadata": {
        "id": "h0WV4xF9_rzk",
        "outputId": "cb6a08bd-cc3a-43a1-db56-141a9270ed65",
        "colab": {
          "base_uri": "https://localhost:8080/",
          "height": 404
        }
      },
      "execution_count": 33,
      "outputs": [
        {
          "output_type": "display_data",
          "data": {
            "text/plain": [
              "'A3 ='"
            ],
            "application/vnd.google.colaboratory.intrinsic+json": {
              "type": "string"
            }
          },
          "metadata": {}
        },
        {
          "output_type": "display_data",
          "data": {
            "text/plain": [
              "                                     ⎛                                        ⎛          m₁⋅ω⋅sin( ↪\n",
              "                                   ⅈ⋅⎜ⅈ⋅c⋅ρ⋅sin(β₁) + ⅈ⋅m₁⋅ω⋅cos(β₁) + ⅈ⋅m₂⋅ω⋅⎜cos(β₁) - ───────── ↪\n",
              "⎛          m₁⋅ω⋅sin(β₁)⎞             ⎝                                        ⎝              c⋅ρ   ↪\n",
              "⎜cos(β₁) - ────────────⎟⋅cos(β₂) + ─────────────────────────────────────────────────────────────── ↪\n",
              "⎝              c⋅ρ     ⎠                                               c⋅ρ                         ↪\n",
              "\n",
              "↪ β₁)⎞⎞        \n",
              "↪ ───⎟⎟⋅sin(β₂)\n",
              "↪    ⎠⎠        \n",
              "↪ ─────────────\n",
              "↪              "
            ],
            "text/latex": "$\\displaystyle \\left(\\cos{\\left(\\beta_{1} \\right)} - \\frac{m_{1} \\omega \\sin{\\left(\\beta_{1} \\right)}}{c \\rho}\\right) \\cos{\\left(\\beta_{2} \\right)} + \\frac{i \\left(i c \\rho \\sin{\\left(\\beta_{1} \\right)} + i m_{1} \\omega \\cos{\\left(\\beta_{1} \\right)} + i m_{2} \\omega \\left(\\cos{\\left(\\beta_{1} \\right)} - \\frac{m_{1} \\omega \\sin{\\left(\\beta_{1} \\right)}}{c \\rho}\\right)\\right) \\sin{\\left(\\beta_{2} \\right)}}{c \\rho}$"
          },
          "metadata": {}
        },
        {
          "output_type": "display_data",
          "data": {
            "text/plain": [
              "'B3 ='"
            ],
            "application/vnd.google.colaboratory.intrinsic+json": {
              "type": "string"
            }
          },
          "metadata": {}
        },
        {
          "output_type": "display_data",
          "data": {
            "text/plain": [
              "                                                ⎛                                     ⎛            ↪\n",
              "                                                ⎜                                   ⅈ⋅⎜ⅈ⋅c⋅ρ⋅sin(β ↪\n",
              "      ⎛          m₁⋅ω⋅sin(β₁)⎞                  ⎜⎛          m₁⋅ω⋅sin(β₁)⎞             ⎝            ↪\n",
              "ⅈ⋅c⋅ρ⋅⎜cos(β₁) - ────────────⎟⋅sin(β₂) + ⅈ⋅m₃⋅ω⋅⎜⎜cos(β₁) - ────────────⎟⋅cos(β₂) + ────────────── ↪\n",
              "      ⎝              c⋅ρ     ⎠                  ⎝⎝              c⋅ρ     ⎠                          ↪\n",
              "\n",
              "↪                              ⎛          m₁⋅ω⋅sin(β₁)⎞⎞        ⎞                                  ↪\n",
              "↪ ₁) + ⅈ⋅m₁⋅ω⋅cos(β₁) + ⅈ⋅m₂⋅ω⋅⎜cos(β₁) - ────────────⎟⎟⋅sin(β₂)⎟                                  ↪\n",
              "↪                              ⎝              c⋅ρ     ⎠⎠        ⎟   ⎛                              ↪\n",
              "↪ ──────────────────────────────────────────────────────────────⎟ + ⎜ⅈ⋅c⋅ρ⋅sin(β₁) + ⅈ⋅m₁⋅ω⋅cos(β₁ ↪\n",
              "↪                       c⋅ρ                                     ⎠   ⎝                              ↪\n",
              "\n",
              "↪                                             \n",
              "↪                                             \n",
              "↪            ⎛          m₁⋅ω⋅sin(β₁)⎞⎞        \n",
              "↪ ) + ⅈ⋅m₂⋅ω⋅⎜cos(β₁) - ────────────⎟⎟⋅cos(β₂)\n",
              "↪            ⎝              c⋅ρ     ⎠⎠        "
            ],
            "text/latex": "$\\displaystyle i c \\rho \\left(\\cos{\\left(\\beta_{1} \\right)} - \\frac{m_{1} \\omega \\sin{\\left(\\beta_{1} \\right)}}{c \\rho}\\right) \\sin{\\left(\\beta_{2} \\right)} + i m_{3} \\omega \\left(\\left(\\cos{\\left(\\beta_{1} \\right)} - \\frac{m_{1} \\omega \\sin{\\left(\\beta_{1} \\right)}}{c \\rho}\\right) \\cos{\\left(\\beta_{2} \\right)} + \\frac{i \\left(i c \\rho \\sin{\\left(\\beta_{1} \\right)} + i m_{1} \\omega \\cos{\\left(\\beta_{1} \\right)} + i m_{2} \\omega \\left(\\cos{\\left(\\beta_{1} \\right)} - \\frac{m_{1} \\omega \\sin{\\left(\\beta_{1} \\right)}}{c \\rho}\\right)\\right) \\sin{\\left(\\beta_{2} \\right)}}{c \\rho}\\right) + \\left(i c \\rho \\sin{\\left(\\beta_{1} \\right)} + i m_{1} \\omega \\cos{\\left(\\beta_{1} \\right)} + i m_{2} \\omega \\left(\\cos{\\left(\\beta_{1} \\right)} - \\frac{m_{1} \\omega \\sin{\\left(\\beta_{1} \\right)}}{c \\rho}\\right)\\right) \\cos{\\left(\\beta_{2} \\right)}$"
          },
          "metadata": {}
        },
        {
          "output_type": "display_data",
          "data": {
            "text/plain": [
              "'C3 ='"
            ],
            "application/vnd.google.colaboratory.intrinsic+json": {
              "type": "string"
            }
          },
          "metadata": {}
        },
        {
          "output_type": "display_data",
          "data": {
            "text/plain": [
              "  ⎛          m₂⋅ω⋅sin(β₁)⎞                            \n",
              "ⅈ⋅⎜cos(β₁) - ────────────⎟⋅sin(β₂)                    \n",
              "  ⎝              c⋅ρ     ⎠           ⅈ⋅sin(β₁)⋅cos(β₂)\n",
              "────────────────────────────────── + ─────────────────\n",
              "               c⋅ρ                          c⋅ρ       "
            ],
            "text/latex": "$\\displaystyle \\frac{i \\left(\\cos{\\left(\\beta_{1} \\right)} - \\frac{m_{2} \\omega \\sin{\\left(\\beta_{1} \\right)}}{c \\rho}\\right) \\sin{\\left(\\beta_{2} \\right)}}{c \\rho} + \\frac{i \\sin{\\left(\\beta_{1} \\right)} \\cos{\\left(\\beta_{2} \\right)}}{c \\rho}$"
          },
          "metadata": {}
        },
        {
          "output_type": "display_data",
          "data": {
            "text/plain": [
              "'D3 ='"
            ],
            "application/vnd.google.colaboratory.intrinsic+json": {
              "type": "string"
            }
          },
          "metadata": {}
        },
        {
          "output_type": "display_data",
          "data": {
            "text/plain": [
              "       ⎛  ⎛          m₂⋅ω⋅sin(β₁)⎞                            ⎞                                    ↪\n",
              "       ⎜ⅈ⋅⎜cos(β₁) - ────────────⎟⋅sin(β₂)                    ⎟                                    ↪\n",
              "       ⎜  ⎝              c⋅ρ     ⎠           ⅈ⋅sin(β₁)⋅cos(β₂)⎟   ⎛          m₂⋅ω⋅sin(β₁)⎞         ↪\n",
              "ⅈ⋅m₃⋅ω⋅⎜────────────────────────────────── + ─────────────────⎟ + ⎜cos(β₁) - ────────────⎟⋅cos(β₂) ↪\n",
              "       ⎝               c⋅ρ                          c⋅ρ       ⎠   ⎝              c⋅ρ     ⎠         ↪\n",
              "\n",
              "↪                   \n",
              "↪                   \n",
              "↪                   \n",
              "↪  - sin(β₁)⋅sin(β₂)\n",
              "↪                   "
            ],
            "text/latex": "$\\displaystyle i m_{3} \\omega \\left(\\frac{i \\left(\\cos{\\left(\\beta_{1} \\right)} - \\frac{m_{2} \\omega \\sin{\\left(\\beta_{1} \\right)}}{c \\rho}\\right) \\sin{\\left(\\beta_{2} \\right)}}{c \\rho} + \\frac{i \\sin{\\left(\\beta_{1} \\right)} \\cos{\\left(\\beta_{2} \\right)}}{c \\rho}\\right) + \\left(\\cos{\\left(\\beta_{1} \\right)} - \\frac{m_{2} \\omega \\sin{\\left(\\beta_{1} \\right)}}{c \\rho}\\right) \\cos{\\left(\\beta_{2} \\right)} - \\sin{\\left(\\beta_{1} \\right)} \\sin{\\left(\\beta_{2} \\right)}$"
          },
          "metadata": {}
        }
      ]
    },
    {
      "cell_type": "markdown",
      "source": [
        "### 実施に数値入れて計算してみる"
      ],
      "metadata": {
        "id": "BhPmyNmxI-7X"
      }
    },
    {
      "cell_type": "code",
      "source": [
        "\n",
        "F_air = np.array(([expand(cos(beta)), j * rho * expand(sin(beta))],\n",
        "                  [j / rho / c * expand(sin(beta)), expand(cos(beta))]))\n",
        "print(F_air)"
      ],
      "metadata": {
        "colab": {
          "base_uri": "https://localhost:8080/",
          "height": 176
        },
        "id": "9L3AVNnz6y7l",
        "outputId": "7a72daf0-98da-4418-aadc-268dd8d553d0"
      },
      "execution_count": 14,
      "outputs": [
        {
          "output_type": "error",
          "ename": "NameError",
          "evalue": "name 'expand' is not defined",
          "traceback": [
            "\u001b[0;31m---------------------------------------------------------------------------\u001b[0m",
            "\u001b[0;31mNameError\u001b[0m                                 Traceback (most recent call last)",
            "\u001b[0;32m<ipython-input-14-e6c8b93f8d97>\u001b[0m in \u001b[0;36m<cell line: 1>\u001b[0;34m()\u001b[0m\n\u001b[0;32m----> 1\u001b[0;31m F_air = np.array(([expand(cos(beta)), j * rho * expand(sin(beta))],\n\u001b[0m\u001b[1;32m      2\u001b[0m                   [j / rho / c * expand(sin(beta)), expand(cos(beta))]))\n\u001b[1;32m      3\u001b[0m \u001b[0mprint\u001b[0m\u001b[0;34m(\u001b[0m\u001b[0mF_air\u001b[0m\u001b[0;34m)\u001b[0m\u001b[0;34m\u001b[0m\u001b[0;34m\u001b[0m\u001b[0m\n",
            "\u001b[0;31mNameError\u001b[0m: name 'expand' is not defined"
          ]
        }
      ]
    },
    {
      "cell_type": "code",
      "source": [
        "beta = 1\n",
        "j = 1\n",
        "rho = 1\n",
        "c = 1\n",
        "\n",
        "F_air = np.array([[np.cos(beta), j * rho * np.sin(beta)],\n",
        "                  [j / rho / c * np.sin(beta), np.cos(beta)]])\n",
        "print(F_air)"
      ],
      "metadata": {
        "colab": {
          "base_uri": "https://localhost:8080/"
        },
        "id": "Y1xP55Yqwsvu",
        "outputId": "f9732e3d-0683-4cd7-c2ad-83fadb4ec797"
      },
      "execution_count": 15,
      "outputs": [
        {
          "output_type": "stream",
          "name": "stdout",
          "text": [
            "[[0.54030231 0.84147098]\n",
            " [0.84147098 0.54030231]]\n"
          ]
        }
      ]
    },
    {
      "cell_type": "code",
      "source": [],
      "metadata": {
        "id": "k23CZ6v1zLID"
      },
      "execution_count": 15,
      "outputs": []
    }
  ],
  "metadata": {
    "colab": {
      "name": "Colaboratory へようこそ",
      "toc_visible": true,
      "provenance": [],
      "include_colab_link": true
    },
    "kernelspec": {
      "display_name": "Python 3",
      "name": "python3"
    }
  },
  "nbformat": 4,
  "nbformat_minor": 0
}