{
  "cells": [
    {
      "cell_type": "markdown",
      "metadata": {
        "id": "view-in-github",
        "colab_type": "text"
      },
      "source": [
        "<a href=\"https://colab.research.google.com/github/Galmieux/Onkyou/blob/main/Onkyou.ipynb\" target=\"_parent\"><img src=\"https://colab.research.google.com/assets/colab-badge.svg\" alt=\"Open In Colab\"/></a>"
      ]
    },
    {
      "cell_type": "markdown",
      "source": [
        "# 2. 二重壁・三重壁の低域共鳴周波数"
      ],
      "metadata": {
        "id": "teS1N5fFvxza"
      }
    },
    {
      "cell_type": "markdown",
      "source": [
        "## 2.1 二重壁\n",
        "空気層の伝達マトリックス$ \\ F_{air} $は次のように書ける。\n",
        "\n",
        "$$\n",
        "F_{air}=\n",
        "        \\left(\\begin{array}{c}\n",
        "            \\cos \\beta  & j\\rho c \\sinβ\\\\\n",
        "            j\\frac{1}{\\rho c} \\sin \\beta  & \\cosβ\\\\\n",
        "        \\end{array}\\right) \\quad\n",
        "$$\n"
      ],
      "metadata": {
        "id": "8WnR9aEole2r"
      }
    },
    {
      "cell_type": "code",
      "source": [
        "# 最初に必ずこのセルを実行。必要なモジュールをインストール。\n",
        "import numpy as np\n",
        "import sympy as sp\n",
        "print('np_ver =',np.__version__)"
      ],
      "metadata": {
        "id": "mB1SDSD9xL_D",
        "outputId": "eafcc7b3-8ca5-4e53-af90-f9fb3cb43b5c",
        "colab": {
          "base_uri": "https://localhost:8080/"
        }
      },
      "execution_count": 44,
      "outputs": [
        {
          "output_type": "stream",
          "name": "stdout",
          "text": [
            "np_ver = 1.26.4\n"
          ]
        }
      ]
    },
    {
      "cell_type": "code",
      "source": [
        "# 変数のまま計算\n",
        "\n",
        "beta, j, rho, c, k, l, theta, z_p, m, omega, f = sp.symbols('beta, j, rho, c, k, l, theta, z_p, m, omega, f')\n",
        "\n",
        "F_air = sp.Matrix([[sp.cos(beta), j * rho * c * sp.sin(beta)],\n",
        "                   [j / rho / c * sp.sin(beta), sp.cos(beta)]])\n",
        "sp.init_printing()\n",
        "display('F_air =',F_air)"
      ],
      "metadata": {
        "id": "FJDE9Nu-57fF",
        "outputId": "a6727935-2c6f-41db-8e29-a07bf413a468",
        "colab": {
          "base_uri": "https://localhost:8080/",
          "height": 86
        }
      },
      "execution_count": 73,
      "outputs": [
        {
          "output_type": "display_data",
          "data": {
            "text/plain": [
              "'F_air ='"
            ],
            "application/vnd.google.colaboratory.intrinsic+json": {
              "type": "string"
            }
          },
          "metadata": {}
        },
        {
          "output_type": "display_data",
          "data": {
            "text/plain": [
              "⎡ cos(β)   c⋅j⋅ρ⋅sin(β)⎤\n",
              "⎢                      ⎥\n",
              "⎢j⋅sin(β)              ⎥\n",
              "⎢────────     cos(β)   ⎥\n",
              "⎣  c⋅ρ                 ⎦"
            ],
            "text/latex": "$\\displaystyle \\left[\\begin{matrix}\\cos{\\left(\\beta \\right)} & c j \\rho \\sin{\\left(\\beta \\right)}\\\\\\frac{j \\sin{\\left(\\beta \\right)}}{c \\rho} & \\cos{\\left(\\beta \\right)}\\end{matrix}\\right]$"
          },
          "metadata": {}
        }
      ]
    },
    {
      "cell_type": "code",
      "source": [
        "F_plate = sp.Matrix([[1, z_p],\n",
        "                   [0, 1]])\n",
        "sp.init_printing()\n",
        "display('F_plate =',F_plate)\n",
        "\n",
        "# z_p = j * m * omega\n",
        "# omega = 2 * np.pi * f\n",
        "\n",
        "F_plate1 = sp.Matrix([[1, j * m_1 * ],\n",
        "                   [0, 1]])"
      ],
      "metadata": {
        "id": "Plv4BT2f_fcZ",
        "outputId": "b4c4a2f1-7c4b-46d3-e8c0-d22d48fa1278",
        "colab": {
          "base_uri": "https://localhost:8080/",
          "height": 76
        }
      },
      "execution_count": 74,
      "outputs": [
        {
          "output_type": "display_data",
          "data": {
            "text/plain": [
              "'F_plate ='"
            ],
            "application/vnd.google.colaboratory.intrinsic+json": {
              "type": "string"
            }
          },
          "metadata": {}
        },
        {
          "output_type": "display_data",
          "data": {
            "text/plain": [
              "⎡1  zₚ⎤\n",
              "⎢     ⎥\n",
              "⎣0  1 ⎦"
            ],
            "text/latex": "$\\displaystyle \\left[\\begin{matrix}1 & z_{p}\\\\0 & 1\\end{matrix}\\right]$"
          },
          "metadata": {}
        }
      ]
    },
    {
      "cell_type": "code",
      "source": [
        "\n",
        "F_air = np.array(([expand(cos(beta)), j * rho * expand(sin(beta))],\n",
        "                  [j / rho / c * expand(sin(beta)), expand(cos(beta))]))\n",
        "print(F_air)"
      ],
      "metadata": {
        "id": "9L3AVNnz6y7l",
        "outputId": "9b23d12e-51eb-4944-94f4-0e304e36c25f",
        "colab": {
          "base_uri": "https://localhost:8080/"
        }
      },
      "execution_count": 65,
      "outputs": [
        {
          "output_type": "stream",
          "name": "stdout",
          "text": [
            "[[cos(beta) j*rho*sin(beta)]\n",
            " [j*sin(beta)/(c*rho) cos(beta)]]\n"
          ]
        }
      ]
    },
    {
      "cell_type": "code",
      "source": [
        "beta = 1\n",
        "j = 1\n",
        "rho = 1\n",
        "c = 1\n",
        "\n",
        "F_air = np.array([[np.cos(beta), j * rho * np.sin(beta)],\n",
        "                  [j / rho / c * np.sin(beta), np.cos(beta)]])\n",
        "print(F_air)"
      ],
      "metadata": {
        "id": "Y1xP55Yqwsvu",
        "outputId": "341399c8-cb73-43a2-806e-a49d0189a88a",
        "colab": {
          "base_uri": "https://localhost:8080/",
          "height": 297
        }
      },
      "execution_count": 33,
      "outputs": [
        {
          "output_type": "error",
          "ename": "TypeError",
          "evalue": "loop of ufunc does not support argument 0 of type Symbol which has no callable cos method",
          "traceback": [
            "\u001b[0;31m---------------------------------------------------------------------------\u001b[0m",
            "\u001b[0;31mAttributeError\u001b[0m                            Traceback (most recent call last)",
            "\u001b[0;31mAttributeError\u001b[0m: 'Symbol' object has no attribute 'cos'",
            "\nThe above exception was the direct cause of the following exception:\n",
            "\u001b[0;31mTypeError\u001b[0m                                 Traceback (most recent call last)",
            "\u001b[0;32m<ipython-input-33-e5772ce515b1>\u001b[0m in \u001b[0;36m<cell line: 6>\u001b[0;34m()\u001b[0m\n\u001b[1;32m      4\u001b[0m \u001b[0mc\u001b[0m \u001b[0;34m=\u001b[0m \u001b[0;36m1\u001b[0m\u001b[0;34m\u001b[0m\u001b[0;34m\u001b[0m\u001b[0m\n\u001b[1;32m      5\u001b[0m \u001b[0;34m\u001b[0m\u001b[0m\n\u001b[0;32m----> 6\u001b[0;31m F_air = np.array([[np.cos(beta), j * rho * np.sin(beta)],\n\u001b[0m\u001b[1;32m      7\u001b[0m                   [j / rho / c * np.sin(beta), np.cos(beta)]])\n\u001b[1;32m      8\u001b[0m \u001b[0mprint\u001b[0m\u001b[0;34m(\u001b[0m\u001b[0mF_air\u001b[0m\u001b[0;34m)\u001b[0m\u001b[0;34m\u001b[0m\u001b[0;34m\u001b[0m\u001b[0m\n",
            "\u001b[0;31mTypeError\u001b[0m: loop of ufunc does not support argument 0 of type Symbol which has no callable cos method"
          ]
        }
      ]
    },
    {
      "cell_type": "code",
      "source": [],
      "metadata": {
        "id": "k23CZ6v1zLID"
      },
      "execution_count": 15,
      "outputs": []
    }
  ],
  "metadata": {
    "colab": {
      "name": "Colaboratory へようこそ",
      "toc_visible": true,
      "provenance": [],
      "include_colab_link": true
    },
    "kernelspec": {
      "display_name": "Python 3",
      "name": "python3"
    }
  },
  "nbformat": 4,
  "nbformat_minor": 0
}