{
  "cells": [
    {
      "cell_type": "markdown",
      "metadata": {
        "id": "view-in-github",
        "colab_type": "text"
      },
      "source": [
        "<a href=\"https://colab.research.google.com/github/Galmieux/Onkyou/blob/main/Onkyou.ipynb\" target=\"_parent\"><img src=\"https://colab.research.google.com/assets/colab-badge.svg\" alt=\"Open In Colab\"/></a>"
      ]
    },
    {
      "cell_type": "markdown",
      "source": [
        "# 2. 二重壁・三重壁の低域共鳴周波数"
      ],
      "metadata": {
        "id": "teS1N5fFvxza"
      }
    },
    {
      "cell_type": "markdown",
      "source": [
        "## 2.1 二重壁\n",
        "空気層の伝達マトリックス$ \\ F_{air} $は次のように書ける。\n",
        "\n",
        "$$\n",
        "F_{air}=\n",
        "        \\left(\\begin{array}{c}\n",
        "            \\cos \\beta  & j\\rho c \\sinβ\\\\\n",
        "            j\\frac{1}{\\rho c} \\sin \\beta  & \\cosβ\\\\\n",
        "        \\end{array}\\right) \\quad\n",
        "$$\n"
      ],
      "metadata": {
        "id": "8WnR9aEole2r"
      }
    },
    {
      "cell_type": "code",
      "source": [
        "# 最初に必ずこのセルを実行。必要なモジュールをインストール。\n",
        "import numpy as np\n",
        "import sympy as sp\n",
        "print('np_ver =',np.__version__)"
      ],
      "metadata": {
        "colab": {
          "base_uri": "https://localhost:8080/"
        },
        "id": "mB1SDSD9xL_D",
        "outputId": "eafcc7b3-8ca5-4e53-af90-f9fb3cb43b5c"
      },
      "execution_count": 44,
      "outputs": [
        {
          "output_type": "stream",
          "name": "stdout",
          "text": [
            "np_ver = 1.26.4\n"
          ]
        }
      ]
    },
    {
      "cell_type": "code",
      "source": [
        "# 変数のまま計算\n",
        "\n",
        "beta, j, rho, c, k, l, theta, z_p, m, omega, f, m_1, m_2, = sp.symbols('beta, j, rho, c, k, l, theta, z_p, m, omega, f, m_1, m_2, ')\n",
        "\n",
        "F_air = sp.Matrix([[sp.cos(beta), j * rho * c * sp.sin(beta)],\n",
        "                   [j / rho / c * sp.sin(beta), sp.cos(beta)]])\n",
        "sp.init_printing()\n",
        "display('F_air =',F_air)"
      ],
      "metadata": {
        "colab": {
          "base_uri": "https://localhost:8080/",
          "height": 86
        },
        "id": "FJDE9Nu-57fF",
        "outputId": "f7a82d9c-0de1-4d25-868d-1dae4aba80a1"
      },
      "execution_count": 105,
      "outputs": [
        {
          "output_type": "display_data",
          "data": {
            "text/plain": [
              "'F_air ='"
            ],
            "application/vnd.google.colaboratory.intrinsic+json": {
              "type": "string"
            }
          },
          "metadata": {}
        },
        {
          "output_type": "display_data",
          "data": {
            "text/plain": [
              "⎡ cos(β)   c⋅j⋅ρ⋅sin(β)⎤\n",
              "⎢                      ⎥\n",
              "⎢j⋅sin(β)              ⎥\n",
              "⎢────────     cos(β)   ⎥\n",
              "⎣  c⋅ρ                 ⎦"
            ],
            "text/latex": "$\\displaystyle \\left[\\begin{matrix}\\cos{\\left(\\beta \\right)} & c j \\rho \\sin{\\left(\\beta \\right)}\\\\\\frac{j \\sin{\\left(\\beta \\right)}}{c \\rho} & \\cos{\\left(\\beta \\right)}\\end{matrix}\\right]$"
          },
          "metadata": {}
        }
      ]
    },
    {
      "cell_type": "code",
      "source": [
        "F_plate = sp.Matrix([[1, z_p],\n",
        "                   [0, 1]])\n",
        "sp.init_printing()\n",
        "display('F_plate =',F_plate)\n",
        "\n",
        "# z_p = j * m * omega\n",
        "# omega = 2 * np.pi * f\n",
        "\n",
        "F_plate1 = sp.Matrix([[1, j * m_1 * omega],\n",
        "                   [0, 1]])\n",
        "F_plate2 = sp.Matrix([[1, j * m_2 * omega],\n",
        "                   [0, 1]])\n",
        "display('F_plate1 =',F_plate1)\n",
        "display('F_plate2 =',F_plate2)"
      ],
      "metadata": {
        "colab": {
          "base_uri": "https://localhost:8080/",
          "height": 194
        },
        "id": "Plv4BT2f_fcZ",
        "outputId": "1d833748-82e8-4095-a46f-eea393ca5896"
      },
      "execution_count": 106,
      "outputs": [
        {
          "output_type": "display_data",
          "data": {
            "text/plain": [
              "'F_plate ='"
            ],
            "application/vnd.google.colaboratory.intrinsic+json": {
              "type": "string"
            }
          },
          "metadata": {}
        },
        {
          "output_type": "display_data",
          "data": {
            "text/plain": [
              "⎡1  zₚ⎤\n",
              "⎢     ⎥\n",
              "⎣0  1 ⎦"
            ],
            "text/latex": "$\\displaystyle \\left[\\begin{matrix}1 & z_{p}\\\\0 & 1\\end{matrix}\\right]$"
          },
          "metadata": {}
        },
        {
          "output_type": "display_data",
          "data": {
            "text/plain": [
              "'F_plate1 ='"
            ],
            "application/vnd.google.colaboratory.intrinsic+json": {
              "type": "string"
            }
          },
          "metadata": {}
        },
        {
          "output_type": "display_data",
          "data": {
            "text/plain": [
              "⎡1  j⋅m₁⋅ω⎤\n",
              "⎢         ⎥\n",
              "⎣0    1   ⎦"
            ],
            "text/latex": "$\\displaystyle \\left[\\begin{matrix}1 & j m_{1} \\omega\\\\0 & 1\\end{matrix}\\right]$"
          },
          "metadata": {}
        },
        {
          "output_type": "display_data",
          "data": {
            "text/plain": [
              "'F_plate2 ='"
            ],
            "application/vnd.google.colaboratory.intrinsic+json": {
              "type": "string"
            }
          },
          "metadata": {}
        },
        {
          "output_type": "display_data",
          "data": {
            "text/plain": [
              "⎡1  j⋅m₂⋅ω⎤\n",
              "⎢         ⎥\n",
              "⎣0    1   ⎦"
            ],
            "text/latex": "$\\displaystyle \\left[\\begin{matrix}1 & j m_{2} \\omega\\\\0 & 1\\end{matrix}\\right]$"
          },
          "metadata": {}
        }
      ]
    },
    {
      "cell_type": "code",
      "source": [
        "F = F_plate1 * F_air * F_plate2\n",
        "display('F =',F)\n",
        "\n",
        "A = F[0,0]\n",
        "B = F[0,1]\n",
        "C = F[1,0]\n",
        "D = F[1,1]\n",
        "display('A =',A)\n",
        "display('B =',B)\n",
        "display('C =',C)\n",
        "display('D =',D)"
      ],
      "metadata": {
        "id": "TOCTqUK_GWwU",
        "outputId": "982e3c5c-e498-4d3b-928c-345fc38f665a",
        "colab": {
          "base_uri": "https://localhost:8080/",
          "height": 331
        }
      },
      "execution_count": 107,
      "outputs": [
        {
          "output_type": "display_data",
          "data": {
            "text/plain": [
              "'F ='"
            ],
            "application/vnd.google.colaboratory.intrinsic+json": {
              "type": "string"
            }
          },
          "metadata": {}
        },
        {
          "output_type": "display_data",
          "data": {
            "text/plain": [
              "⎡          2                                                    ⎛          2            ⎞⎤\n",
              "⎢         j ⋅m₁⋅ω⋅sin(β)                                        ⎜         j ⋅m₁⋅ω⋅sin(β)⎟⎥\n",
              "⎢cos(β) + ──────────────  c⋅j⋅ρ⋅sin(β) + j⋅m₁⋅ω⋅cos(β) + j⋅m₂⋅ω⋅⎜cos(β) + ──────────────⎟⎥\n",
              "⎢              c⋅ρ                                              ⎝              c⋅ρ      ⎠⎥\n",
              "⎢                                                                                        ⎥\n",
              "⎢                                                       2                                ⎥\n",
              "⎢       j⋅sin(β)                                       j ⋅m₂⋅ω⋅sin(β)                    ⎥\n",
              "⎢       ────────                              cos(β) + ──────────────                    ⎥\n",
              "⎣         c⋅ρ                                               c⋅ρ                          ⎦"
            ],
            "text/latex": "$\\displaystyle \\left[\\begin{matrix}\\cos{\\left(\\beta \\right)} + \\frac{j^{2} m_{1} \\omega \\sin{\\left(\\beta \\right)}}{c \\rho} & c j \\rho \\sin{\\left(\\beta \\right)} + j m_{1} \\omega \\cos{\\left(\\beta \\right)} + j m_{2} \\omega \\left(\\cos{\\left(\\beta \\right)} + \\frac{j^{2} m_{1} \\omega \\sin{\\left(\\beta \\right)}}{c \\rho}\\right)\\\\\\frac{j \\sin{\\left(\\beta \\right)}}{c \\rho} & \\cos{\\left(\\beta \\right)} + \\frac{j^{2} m_{2} \\omega \\sin{\\left(\\beta \\right)}}{c \\rho}\\end{matrix}\\right]$"
          },
          "metadata": {}
        },
        {
          "output_type": "display_data",
          "data": {
            "text/plain": [
              "'A ='"
            ],
            "application/vnd.google.colaboratory.intrinsic+json": {
              "type": "string"
            }
          },
          "metadata": {}
        },
        {
          "output_type": "display_data",
          "data": {
            "text/plain": [
              "          2            \n",
              "         j ⋅m₁⋅ω⋅sin(β)\n",
              "cos(β) + ──────────────\n",
              "              c⋅ρ      "
            ],
            "text/latex": "$\\displaystyle \\cos{\\left(\\beta \\right)} + \\frac{j^{2} m_{1} \\omega \\sin{\\left(\\beta \\right)}}{c \\rho}$"
          },
          "metadata": {}
        },
        {
          "output_type": "display_data",
          "data": {
            "text/plain": [
              "'B ='"
            ],
            "application/vnd.google.colaboratory.intrinsic+json": {
              "type": "string"
            }
          },
          "metadata": {}
        },
        {
          "output_type": "display_data",
          "data": {
            "text/plain": [
              "                                      ⎛          2            ⎞\n",
              "                                      ⎜         j ⋅m₁⋅ω⋅sin(β)⎟\n",
              "c⋅j⋅ρ⋅sin(β) + j⋅m₁⋅ω⋅cos(β) + j⋅m₂⋅ω⋅⎜cos(β) + ──────────────⎟\n",
              "                                      ⎝              c⋅ρ      ⎠"
            ],
            "text/latex": "$\\displaystyle c j \\rho \\sin{\\left(\\beta \\right)} + j m_{1} \\omega \\cos{\\left(\\beta \\right)} + j m_{2} \\omega \\left(\\cos{\\left(\\beta \\right)} + \\frac{j^{2} m_{1} \\omega \\sin{\\left(\\beta \\right)}}{c \\rho}\\right)$"
          },
          "metadata": {}
        },
        {
          "output_type": "display_data",
          "data": {
            "text/plain": [
              "'C ='"
            ],
            "application/vnd.google.colaboratory.intrinsic+json": {
              "type": "string"
            }
          },
          "metadata": {}
        },
        {
          "output_type": "display_data",
          "data": {
            "text/plain": [
              "j⋅sin(β)\n",
              "────────\n",
              "  c⋅ρ   "
            ],
            "text/latex": "$\\displaystyle \\frac{j \\sin{\\left(\\beta \\right)}}{c \\rho}$"
          },
          "metadata": {}
        },
        {
          "output_type": "display_data",
          "data": {
            "text/plain": [
              "'D ='"
            ],
            "application/vnd.google.colaboratory.intrinsic+json": {
              "type": "string"
            }
          },
          "metadata": {}
        },
        {
          "output_type": "display_data",
          "data": {
            "text/plain": [
              "          2            \n",
              "         j ⋅m₂⋅ω⋅sin(β)\n",
              "cos(β) + ──────────────\n",
              "              c⋅ρ      "
            ],
            "text/latex": "$\\displaystyle \\cos{\\left(\\beta \\right)} + \\frac{j^{2} m_{2} \\omega \\sin{\\left(\\beta \\right)}}{c \\rho}$"
          },
          "metadata": {}
        }
      ]
    },
    {
      "cell_type": "code",
      "source": [
        "tau_theta = 4 * (np.abs(A + B * sp.cos(theta) / rho / c + C * rho * c / sp.cos(theta) + D))**(-2)\n",
        "display('tau_theta =',tau_theta)"
      ],
      "metadata": {
        "id": "dWXccT4rJXo7",
        "outputId": "4618417d-8559-4fc8-e7d1-54f9641613bb",
        "colab": {
          "base_uri": "https://localhost:8080/",
          "height": 121
        }
      },
      "execution_count": 108,
      "outputs": [
        {
          "output_type": "display_data",
          "data": {
            "text/plain": [
              "'tau_theta ='"
            ],
            "application/vnd.google.colaboratory.intrinsic+json": {
              "type": "string"
            }
          },
          "metadata": {}
        },
        {
          "output_type": "display_data",
          "data": {
            "text/plain": [
              "                                                                 4                                 ↪\n",
              "────────────────────────────────────────────────────────────────────────────────────────────────── ↪\n",
              "                                                                                                   ↪\n",
              "│                                                        ⎛                                      ⎛  ↪\n",
              "│                                                        ⎜                                      ⎜  ↪\n",
              "│                       2                2               ⎜c⋅j⋅ρ⋅sin(β) + j⋅m₁⋅ω⋅cos(β) + j⋅m₂⋅ω⋅⎜c ↪\n",
              "│j⋅sin(β)              j ⋅m₁⋅ω⋅sin(β)   j ⋅m₂⋅ω⋅sin(β)   ⎝                                      ⎝  ↪\n",
              "│──────── + 2⋅cos(β) + ────────────── + ────────────── + ───────────────────────────────────────── ↪\n",
              "│ cos(θ)                    c⋅ρ              c⋅ρ                                           c⋅ρ     ↪\n",
              "\n",
              "↪                                  \n",
              "↪ ─────────────────────────────────\n",
              "↪                                 2\n",
              "↪          2            ⎞⎞       │ \n",
              "↪         j ⋅m₁⋅ω⋅sin(β)⎟⎟       │ \n",
              "↪ os(β) + ──────────────⎟⎟⋅cos(θ)│ \n",
              "↪              c⋅ρ      ⎠⎠       │ \n",
              "↪ ───────────────────────────────│ \n",
              "↪                                │ "
            ],
            "text/latex": "$\\displaystyle \\frac{4}{\\left|{\\frac{j \\sin{\\left(\\beta \\right)}}{\\cos{\\left(\\theta \\right)}} + 2 \\cos{\\left(\\beta \\right)} + \\frac{j^{2} m_{1} \\omega \\sin{\\left(\\beta \\right)}}{c \\rho} + \\frac{j^{2} m_{2} \\omega \\sin{\\left(\\beta \\right)}}{c \\rho} + \\frac{\\left(c j \\rho \\sin{\\left(\\beta \\right)} + j m_{1} \\omega \\cos{\\left(\\beta \\right)} + j m_{2} \\omega \\left(\\cos{\\left(\\beta \\right)} + \\frac{j^{2} m_{1} \\omega \\sin{\\left(\\beta \\right)}}{c \\rho}\\right)\\right) \\cos{\\left(\\theta \\right)}}{c \\rho}}\\right|^{2}}$"
          },
          "metadata": {}
        }
      ]
    },
    {
      "cell_type": "code",
      "source": [
        "TL_theta = 10 * sp.log(1 / tau_theta)\n",
        "display('TL_theta =',TL_theta)"
      ],
      "metadata": {
        "id": "wLhOsPEQL9Av",
        "outputId": "d528898b-86a7-46fd-e159-0ff60346d87b",
        "colab": {
          "base_uri": "https://localhost:8080/",
          "height": 169
        }
      },
      "execution_count": 112,
      "outputs": [
        {
          "output_type": "display_data",
          "data": {
            "text/plain": [
              "'TL_theta ='"
            ],
            "application/vnd.google.colaboratory.intrinsic+json": {
              "type": "string"
            }
          },
          "metadata": {}
        },
        {
          "output_type": "display_data",
          "data": {
            "text/plain": [
              "      ⎛                                                                                            ↪\n",
              "      ⎜│                                                        ⎛                                  ↪\n",
              "      ⎜│                                                        ⎜                                  ↪\n",
              "      ⎜│                       2                2               ⎜c⋅j⋅ρ⋅sin(β) + j⋅m₁⋅ω⋅cos(β) + j⋅ ↪\n",
              "      ⎜│j⋅sin(β)              j ⋅m₁⋅ω⋅sin(β)   j ⋅m₂⋅ω⋅sin(β)   ⎝                                  ↪\n",
              "      ⎜│──────── + 2⋅cos(β) + ────────────── + ────────────── + ────────────────────────────────── ↪\n",
              "      ⎜│ cos(θ)                    c⋅ρ              c⋅ρ                                            ↪\n",
              "10⋅log⎜─────────────────────────────────────────────────────────────────────────────────────────── ↪\n",
              "      ⎝                                                                 4                          ↪\n",
              "\n",
              "↪                                        2⎞\n",
              "↪      ⎛          2            ⎞⎞       │ ⎟\n",
              "↪      ⎜         j ⋅m₁⋅ω⋅sin(β)⎟⎟       │ ⎟\n",
              "↪ m₂⋅ω⋅⎜cos(β) + ──────────────⎟⎟⋅cos(θ)│ ⎟\n",
              "↪      ⎝              c⋅ρ      ⎠⎠       │ ⎟\n",
              "↪ ──────────────────────────────────────│ ⎟\n",
              "↪ c⋅ρ                                   │ ⎟\n",
              "↪ ────────────────────────────────────────⎟\n",
              "↪                                         ⎠"
            ],
            "text/latex": "$\\displaystyle 10 \\log{\\left(\\frac{\\left|{\\frac{j \\sin{\\left(\\beta \\right)}}{\\cos{\\left(\\theta \\right)}} + 2 \\cos{\\left(\\beta \\right)} + \\frac{j^{2} m_{1} \\omega \\sin{\\left(\\beta \\right)}}{c \\rho} + \\frac{j^{2} m_{2} \\omega \\sin{\\left(\\beta \\right)}}{c \\rho} + \\frac{\\left(c j \\rho \\sin{\\left(\\beta \\right)} + j m_{1} \\omega \\cos{\\left(\\beta \\right)} + j m_{2} \\omega \\left(\\cos{\\left(\\beta \\right)} + \\frac{j^{2} m_{1} \\omega \\sin{\\left(\\beta \\right)}}{c \\rho}\\right)\\right) \\cos{\\left(\\theta \\right)}}{c \\rho}}\\right|^{2}}{4} \\right)}$"
          },
          "metadata": {}
        }
      ]
    },
    {
      "cell_type": "code",
      "source": [
        "Answer = 10 * sp.log(1 + ((omega / 2 * row * c * cos(theta)) ** 2) * ((m_1 )))"
      ],
      "metadata": {
        "id": "m8GWne0aP_54"
      },
      "execution_count": null,
      "outputs": []
    },
    {
      "cell_type": "code",
      "source": [
        "sp.expand(TL_theta)"
      ],
      "metadata": {
        "id": "jKN94PpQPaRw",
        "outputId": "5763148b-2ec7-4d04-f56f-b314d11ea5f9",
        "colab": {
          "base_uri": "https://localhost:8080/",
          "height": 108
        }
      },
      "execution_count": 113,
      "outputs": [
        {
          "output_type": "execute_result",
          "data": {
            "text/plain": [
              "      ⎛                                                                                            ↪\n",
              "      ⎜│                                         2                2                                ↪\n",
              "      ⎜│                  j⋅sin(β)              j ⋅m₁⋅ω⋅sin(β)   j ⋅m₂⋅ω⋅sin(β)   j⋅m₁⋅ω⋅cos(β)⋅co ↪\n",
              "10⋅log⎜│j⋅sin(β)⋅cos(θ) + ──────── + 2⋅cos(β) + ────────────── + ────────────── + ──────────────── ↪\n",
              "      ⎜│                   cos(θ)                    c⋅ρ              c⋅ρ                 c⋅ρ      ↪\n",
              "      ⎝│                                                                                           ↪\n",
              "\n",
              "↪                                                         2⎞            \n",
              "↪                                3        2              │ ⎟            \n",
              "↪ s(θ)   j⋅m₂⋅ω⋅cos(β)⋅cos(θ)   j ⋅m₁⋅m₂⋅ω ⋅sin(β)⋅cos(θ)│ ⎟            \n",
              "↪ ──── + ──────────────────── + ─────────────────────────│ ⎟ - 20⋅log(2)\n",
              "↪                c⋅ρ                       2  2          │ ⎟            \n",
              "↪                                         c ⋅ρ           │ ⎠            "
            ],
            "text/latex": "$\\displaystyle 10 \\log{\\left(\\left|{j \\sin{\\left(\\beta \\right)} \\cos{\\left(\\theta \\right)} + \\frac{j \\sin{\\left(\\beta \\right)}}{\\cos{\\left(\\theta \\right)}} + 2 \\cos{\\left(\\beta \\right)} + \\frac{j^{2} m_{1} \\omega \\sin{\\left(\\beta \\right)}}{c \\rho} + \\frac{j^{2} m_{2} \\omega \\sin{\\left(\\beta \\right)}}{c \\rho} + \\frac{j m_{1} \\omega \\cos{\\left(\\beta \\right)} \\cos{\\left(\\theta \\right)}}{c \\rho} + \\frac{j m_{2} \\omega \\cos{\\left(\\beta \\right)} \\cos{\\left(\\theta \\right)}}{c \\rho} + \\frac{j^{3} m_{1} m_{2} \\omega^{2} \\sin{\\left(\\beta \\right)} \\cos{\\left(\\theta \\right)}}{c^{2} \\rho^{2}}}\\right|^{2} \\right)} - 20 \\log{\\left(2 \\right)}$"
          },
          "metadata": {},
          "execution_count": 113
        }
      ]
    },
    {
      "cell_type": "markdown",
      "source": [
        "### 実施に数値入れて計算してみる"
      ],
      "metadata": {
        "id": "BhPmyNmxI-7X"
      }
    },
    {
      "cell_type": "code",
      "source": [
        "\n",
        "F_air = np.array(([expand(cos(beta)), j * rho * expand(sin(beta))],\n",
        "                  [j / rho / c * expand(sin(beta)), expand(cos(beta))]))\n",
        "print(F_air)"
      ],
      "metadata": {
        "colab": {
          "base_uri": "https://localhost:8080/"
        },
        "id": "9L3AVNnz6y7l",
        "outputId": "9b23d12e-51eb-4944-94f4-0e304e36c25f"
      },
      "execution_count": 65,
      "outputs": [
        {
          "output_type": "stream",
          "name": "stdout",
          "text": [
            "[[cos(beta) j*rho*sin(beta)]\n",
            " [j*sin(beta)/(c*rho) cos(beta)]]\n"
          ]
        }
      ]
    },
    {
      "cell_type": "code",
      "source": [
        "beta = 1\n",
        "j = 1\n",
        "rho = 1\n",
        "c = 1\n",
        "\n",
        "F_air = np.array([[np.cos(beta), j * rho * np.sin(beta)],\n",
        "                  [j / rho / c * np.sin(beta), np.cos(beta)]])\n",
        "print(F_air)"
      ],
      "metadata": {
        "colab": {
          "base_uri": "https://localhost:8080/",
          "height": 297
        },
        "id": "Y1xP55Yqwsvu",
        "outputId": "341399c8-cb73-43a2-806e-a49d0189a88a"
      },
      "execution_count": 33,
      "outputs": [
        {
          "output_type": "error",
          "ename": "TypeError",
          "evalue": "loop of ufunc does not support argument 0 of type Symbol which has no callable cos method",
          "traceback": [
            "\u001b[0;31m---------------------------------------------------------------------------\u001b[0m",
            "\u001b[0;31mAttributeError\u001b[0m                            Traceback (most recent call last)",
            "\u001b[0;31mAttributeError\u001b[0m: 'Symbol' object has no attribute 'cos'",
            "\nThe above exception was the direct cause of the following exception:\n",
            "\u001b[0;31mTypeError\u001b[0m                                 Traceback (most recent call last)",
            "\u001b[0;32m<ipython-input-33-e5772ce515b1>\u001b[0m in \u001b[0;36m<cell line: 6>\u001b[0;34m()\u001b[0m\n\u001b[1;32m      4\u001b[0m \u001b[0mc\u001b[0m \u001b[0;34m=\u001b[0m \u001b[0;36m1\u001b[0m\u001b[0;34m\u001b[0m\u001b[0;34m\u001b[0m\u001b[0m\n\u001b[1;32m      5\u001b[0m \u001b[0;34m\u001b[0m\u001b[0m\n\u001b[0;32m----> 6\u001b[0;31m F_air = np.array([[np.cos(beta), j * rho * np.sin(beta)],\n\u001b[0m\u001b[1;32m      7\u001b[0m                   [j / rho / c * np.sin(beta), np.cos(beta)]])\n\u001b[1;32m      8\u001b[0m \u001b[0mprint\u001b[0m\u001b[0;34m(\u001b[0m\u001b[0mF_air\u001b[0m\u001b[0;34m)\u001b[0m\u001b[0;34m\u001b[0m\u001b[0;34m\u001b[0m\u001b[0m\n",
            "\u001b[0;31mTypeError\u001b[0m: loop of ufunc does not support argument 0 of type Symbol which has no callable cos method"
          ]
        }
      ]
    },
    {
      "cell_type": "code",
      "source": [],
      "metadata": {
        "id": "k23CZ6v1zLID"
      },
      "execution_count": 15,
      "outputs": []
    }
  ],
  "metadata": {
    "colab": {
      "name": "Colaboratory へようこそ",
      "toc_visible": true,
      "provenance": [],
      "include_colab_link": true
    },
    "kernelspec": {
      "display_name": "Python 3",
      "name": "python3"
    }
  },
  "nbformat": 4,
  "nbformat_minor": 0
}