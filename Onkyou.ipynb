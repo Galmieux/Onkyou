{
  "cells": [
    {
      "cell_type": "markdown",
      "metadata": {
        "id": "view-in-github",
        "colab_type": "text"
      },
      "source": [
        "<a href=\"https://colab.research.google.com/github/Galmieux/Onkyou/blob/main/Onkyou.ipynb\" target=\"_parent\"><img src=\"https://colab.research.google.com/assets/colab-badge.svg\" alt=\"Open In Colab\"/></a>"
      ]
    },
    {
      "cell_type": "code",
      "source": [],
      "metadata": {
        "id": "WDfM1CyQhmRx"
      },
      "execution_count": null,
      "outputs": []
    },
    {
      "cell_type": "markdown",
      "source": [
        "### 2.1 二重壁\n",
        "空気層の伝達マトリックス$ \\ F_{air} $は次のように書ける。\n",
        "\n",
        "\n",
        "$$\n",
        "F_{air}=\n",
        "        \\left(\\begin{array}{c}\n",
        "            \\cos \\beta  & 2\\\\\n",
        "            j\\frac{1}{\\rho c} \\sin \\beta  & \\cosβ\\\\\n",
        "        \\end{array}\\right) \\quad\n",
        "$$\n"
      ],
      "metadata": {
        "id": "8WnR9aEole2r"
      }
    }
  ],
  "metadata": {
    "colab": {
      "name": "Colaboratory へようこそ",
      "toc_visible": true,
      "provenance": [],
      "include_colab_link": true
    },
    "kernelspec": {
      "display_name": "Python 3",
      "name": "python3"
    }
  },
  "nbformat": 4,
  "nbformat_minor": 0
}