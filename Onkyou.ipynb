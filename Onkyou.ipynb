{
  "cells": [
    {
      "cell_type": "markdown",
      "metadata": {
        "id": "view-in-github",
        "colab_type": "text"
      },
      "source": [
        "<a href=\"https://colab.research.google.com/github/Galmieux/Onkyou/blob/main/Onkyou.ipynb\" target=\"_parent\"><img src=\"https://colab.research.google.com/assets/colab-badge.svg\" alt=\"Open In Colab\"/></a>"
      ]
    },
    {
      "cell_type": "markdown",
      "source": [
        "# 2. 二重壁・三重壁の低域共鳴周波数"
      ],
      "metadata": {
        "id": "teS1N5fFvxza"
      }
    },
    {
      "cell_type": "markdown",
      "source": [
        "## 2.1 二重壁\n",
        "空気層の伝達マトリックス$ \\ F_{air} $は次のように書ける。\n",
        "\n",
        "$$\n",
        "F_{air}=\n",
        "        \\left(\\begin{array}{c}\n",
        "            \\cos \\beta  & j\\rho c \\sinβ\\\\\n",
        "            j\\frac{1}{\\rho c} \\sin \\beta  & \\cosβ\\\\\n",
        "        \\end{array}\\right) \\quad\n",
        "$$\n"
      ],
      "metadata": {
        "id": "8WnR9aEole2r"
      }
    },
    {
      "cell_type": "code",
      "source": [
        "# 最初に必ずこのセルを実行。必要なモジュールをインストール。\n",
        "import numpy as np\n",
        "import sympy as sp\n",
        "print('np_ver =',np.__version__)"
      ],
      "metadata": {
        "colab": {
          "base_uri": "https://localhost:8080/"
        },
        "id": "mB1SDSD9xL_D",
        "outputId": "eafcc7b3-8ca5-4e53-af90-f9fb3cb43b5c"
      },
      "execution_count": 44,
      "outputs": [
        {
          "output_type": "stream",
          "name": "stdout",
          "text": [
            "np_ver = 1.26.4\n"
          ]
        }
      ]
    },
    {
      "cell_type": "code",
      "source": [
        "# 変数のまま計算\n",
        "\n",
        "beta, rho, c, k, l, theta, z_p, m, omega, f, m_1, m_2, = sp.symbols('beta, rho, c, k, l, theta, z_p, m, omega, f, m_1, m_2, ')\n",
        "\n",
        "F_air = sp.Matrix([[sp.cos(beta), sp.I * rho * c * sp.sin(beta)],\n",
        "                   [sp.I / rho / c * sp.sin(beta), sp.cos(beta)]])\n",
        "sp.init_printing()\n",
        "display('F_air =',F_air)"
      ],
      "metadata": {
        "colab": {
          "base_uri": "https://localhost:8080/",
          "height": 86
        },
        "id": "FJDE9Nu-57fF",
        "outputId": "0765c046-6d20-4532-f72f-5c3ab7c51581"
      },
      "execution_count": 141,
      "outputs": [
        {
          "output_type": "display_data",
          "data": {
            "text/plain": [
              "'F_air ='"
            ],
            "application/vnd.google.colaboratory.intrinsic+json": {
              "type": "string"
            }
          },
          "metadata": {}
        },
        {
          "output_type": "display_data",
          "data": {
            "text/plain": [
              "⎡ cos(β)   ⅈ⋅c⋅ρ⋅sin(β)⎤\n",
              "⎢                      ⎥\n",
              "⎢ⅈ⋅sin(β)              ⎥\n",
              "⎢────────     cos(β)   ⎥\n",
              "⎣  c⋅ρ                 ⎦"
            ],
            "text/latex": "$\\displaystyle \\left[\\begin{matrix}\\cos{\\left(\\beta \\right)} & i c \\rho \\sin{\\left(\\beta \\right)}\\\\\\frac{i \\sin{\\left(\\beta \\right)}}{c \\rho} & \\cos{\\left(\\beta \\right)}\\end{matrix}\\right]$"
          },
          "metadata": {}
        }
      ]
    },
    {
      "cell_type": "code",
      "source": [
        "F_plate = sp.Matrix([[1, z_p],\n",
        "                   [0, 1]])\n",
        "sp.init_printing()\n",
        "display('F_plate =',F_plate)\n",
        "\n",
        "# z_p = sp.I * m * omega\n",
        "# omega = 2 * sp.pi * f\n",
        "\n",
        "F_plate1 = sp.Matrix([[1, sp.I * m_1 * omega],\n",
        "                   [0, 1]])\n",
        "F_plate2 = sp.Matrix([[1, sp.I * m_2 * omega],\n",
        "                   [0, 1]])\n",
        "display('F_plate1 =',F_plate1)\n",
        "display('F_plate2 =',F_plate2)"
      ],
      "metadata": {
        "colab": {
          "base_uri": "https://localhost:8080/",
          "height": 194
        },
        "id": "Plv4BT2f_fcZ",
        "outputId": "31d89f6e-0c18-4313-dc5f-463978301fb7"
      },
      "execution_count": 142,
      "outputs": [
        {
          "output_type": "display_data",
          "data": {
            "text/plain": [
              "'F_plate ='"
            ],
            "application/vnd.google.colaboratory.intrinsic+json": {
              "type": "string"
            }
          },
          "metadata": {}
        },
        {
          "output_type": "display_data",
          "data": {
            "text/plain": [
              "⎡1  zₚ⎤\n",
              "⎢     ⎥\n",
              "⎣0  1 ⎦"
            ],
            "text/latex": "$\\displaystyle \\left[\\begin{matrix}1 & z_{p}\\\\0 & 1\\end{matrix}\\right]$"
          },
          "metadata": {}
        },
        {
          "output_type": "display_data",
          "data": {
            "text/plain": [
              "'F_plate1 ='"
            ],
            "application/vnd.google.colaboratory.intrinsic+json": {
              "type": "string"
            }
          },
          "metadata": {}
        },
        {
          "output_type": "display_data",
          "data": {
            "text/plain": [
              "⎡1  ⅈ⋅m₁⋅ω⎤\n",
              "⎢         ⎥\n",
              "⎣0    1   ⎦"
            ],
            "text/latex": "$\\displaystyle \\left[\\begin{matrix}1 & i m_{1} \\omega\\\\0 & 1\\end{matrix}\\right]$"
          },
          "metadata": {}
        },
        {
          "output_type": "display_data",
          "data": {
            "text/plain": [
              "'F_plate2 ='"
            ],
            "application/vnd.google.colaboratory.intrinsic+json": {
              "type": "string"
            }
          },
          "metadata": {}
        },
        {
          "output_type": "display_data",
          "data": {
            "text/plain": [
              "⎡1  ⅈ⋅m₂⋅ω⎤\n",
              "⎢         ⎥\n",
              "⎣0    1   ⎦"
            ],
            "text/latex": "$\\displaystyle \\left[\\begin{matrix}1 & i m_{2} \\omega\\\\0 & 1\\end{matrix}\\right]$"
          },
          "metadata": {}
        }
      ]
    },
    {
      "cell_type": "code",
      "source": [
        "F = F_plate1 * F_air * F_plate2\n",
        "display('F =',F)\n",
        "\n",
        "A = F[0,0]\n",
        "B = F[0,1]\n",
        "C = F[1,0]\n",
        "D = F[1,1]\n",
        "display('A =',A)\n",
        "display('B =',B)\n",
        "display('C =',C)\n",
        "display('D =',D)"
      ],
      "metadata": {
        "colab": {
          "base_uri": "https://localhost:8080/",
          "height": 322
        },
        "id": "TOCTqUK_GWwU",
        "outputId": "ec82758d-d1e1-4095-a615-68079cbab84a"
      },
      "execution_count": 151,
      "outputs": [
        {
          "output_type": "display_data",
          "data": {
            "text/plain": [
              "'F ='"
            ],
            "application/vnd.google.colaboratory.intrinsic+json": {
              "type": "string"
            }
          },
          "metadata": {}
        },
        {
          "output_type": "display_data",
          "data": {
            "text/plain": [
              "⎡         m₁⋅ω⋅sin(β)                                        ⎛         m₁⋅ω⋅sin(β)⎞⎤\n",
              "⎢cos(β) - ───────────  ⅈ⋅c⋅ρ⋅sin(β) + ⅈ⋅m₁⋅ω⋅cos(β) + ⅈ⋅m₂⋅ω⋅⎜cos(β) - ───────────⎟⎥\n",
              "⎢             c⋅ρ                                            ⎝             c⋅ρ    ⎠⎥\n",
              "⎢                                                                                  ⎥\n",
              "⎢      ⅈ⋅sin(β)                                     m₂⋅ω⋅sin(β)                    ⎥\n",
              "⎢      ────────                            cos(β) - ───────────                    ⎥\n",
              "⎣        c⋅ρ                                            c⋅ρ                        ⎦"
            ],
            "text/latex": "$\\displaystyle \\left[\\begin{matrix}\\cos{\\left(\\beta \\right)} - \\frac{m_{1} \\omega \\sin{\\left(\\beta \\right)}}{c \\rho} & i c \\rho \\sin{\\left(\\beta \\right)} + i m_{1} \\omega \\cos{\\left(\\beta \\right)} + i m_{2} \\omega \\left(\\cos{\\left(\\beta \\right)} - \\frac{m_{1} \\omega \\sin{\\left(\\beta \\right)}}{c \\rho}\\right)\\\\\\frac{i \\sin{\\left(\\beta \\right)}}{c \\rho} & \\cos{\\left(\\beta \\right)} - \\frac{m_{2} \\omega \\sin{\\left(\\beta \\right)}}{c \\rho}\\end{matrix}\\right]$"
          },
          "metadata": {}
        },
        {
          "output_type": "display_data",
          "data": {
            "text/plain": [
              "'A ='"
            ],
            "application/vnd.google.colaboratory.intrinsic+json": {
              "type": "string"
            }
          },
          "metadata": {}
        },
        {
          "output_type": "display_data",
          "data": {
            "text/plain": [
              "         m₁⋅ω⋅sin(β)\n",
              "cos(β) - ───────────\n",
              "             c⋅ρ    "
            ],
            "text/latex": "$\\displaystyle \\cos{\\left(\\beta \\right)} - \\frac{m_{1} \\omega \\sin{\\left(\\beta \\right)}}{c \\rho}$"
          },
          "metadata": {}
        },
        {
          "output_type": "display_data",
          "data": {
            "text/plain": [
              "'B ='"
            ],
            "application/vnd.google.colaboratory.intrinsic+json": {
              "type": "string"
            }
          },
          "metadata": {}
        },
        {
          "output_type": "display_data",
          "data": {
            "text/plain": [
              "                                      ⎛         m₁⋅ω⋅sin(β)⎞\n",
              "ⅈ⋅c⋅ρ⋅sin(β) + ⅈ⋅m₁⋅ω⋅cos(β) + ⅈ⋅m₂⋅ω⋅⎜cos(β) - ───────────⎟\n",
              "                                      ⎝             c⋅ρ    ⎠"
            ],
            "text/latex": "$\\displaystyle i c \\rho \\sin{\\left(\\beta \\right)} + i m_{1} \\omega \\cos{\\left(\\beta \\right)} + i m_{2} \\omega \\left(\\cos{\\left(\\beta \\right)} - \\frac{m_{1} \\omega \\sin{\\left(\\beta \\right)}}{c \\rho}\\right)$"
          },
          "metadata": {}
        },
        {
          "output_type": "display_data",
          "data": {
            "text/plain": [
              "'C ='"
            ],
            "application/vnd.google.colaboratory.intrinsic+json": {
              "type": "string"
            }
          },
          "metadata": {}
        },
        {
          "output_type": "display_data",
          "data": {
            "text/plain": [
              "ⅈ⋅sin(β)\n",
              "────────\n",
              "  c⋅ρ   "
            ],
            "text/latex": "$\\displaystyle \\frac{i \\sin{\\left(\\beta \\right)}}{c \\rho}$"
          },
          "metadata": {}
        },
        {
          "output_type": "display_data",
          "data": {
            "text/plain": [
              "'D ='"
            ],
            "application/vnd.google.colaboratory.intrinsic+json": {
              "type": "string"
            }
          },
          "metadata": {}
        },
        {
          "output_type": "display_data",
          "data": {
            "text/plain": [
              "         m₂⋅ω⋅sin(β)\n",
              "cos(β) - ───────────\n",
              "             c⋅ρ    "
            ],
            "text/latex": "$\\displaystyle \\cos{\\left(\\beta \\right)} - \\frac{m_{2} \\omega \\sin{\\left(\\beta \\right)}}{c \\rho}$"
          },
          "metadata": {}
        }
      ]
    },
    {
      "cell_type": "code",
      "source": [
        "tau_theta = 4 * (sp.Abs(A + B * sp.cos(theta) / rho / c + C * rho * c / sp.cos(theta) + D)) ** (-2)\n",
        "display('tau_theta =',tau_theta)"
      ],
      "metadata": {
        "colab": {
          "base_uri": "https://localhost:8080/",
          "height": 101
        },
        "id": "dWXccT4rJXo7",
        "outputId": "84b54951-6a00-4e38-e4ef-f5fb6debb60e"
      },
      "execution_count": 152,
      "outputs": [
        {
          "output_type": "display_data",
          "data": {
            "text/plain": [
              "'tau_theta ='"
            ],
            "application/vnd.google.colaboratory.intrinsic+json": {
              "type": "string"
            }
          },
          "metadata": {}
        },
        {
          "output_type": "display_data",
          "data": {
            "text/plain": [
              "                                                            4                                      ↪\n",
              "────────────────────────────────────────────────────────────────────────────────────────────────── ↪\n",
              "                                                                                                   ↪\n",
              "│                                                  ⎛                                      ⎛        ↪\n",
              "│                                                  ⎜ⅈ⋅c⋅ρ⋅sin(β) + ⅈ⋅m₁⋅ω⋅cos(β) + ⅈ⋅m₂⋅ω⋅⎜cos(β)  ↪\n",
              "│ⅈ⋅sin(β)              m₁⋅ω⋅sin(β)   m₂⋅ω⋅sin(β)   ⎝                                      ⎝        ↪\n",
              "│──────── + 2⋅cos(β) - ─────────── - ─────────── + ─────────────────────────────────────────────── ↪\n",
              "│ cos(θ)                   c⋅ρ           c⋅ρ                                        c⋅ρ            ↪\n",
              "\n",
              "↪                         \n",
              "↪ ────────────────────────\n",
              "↪                        2\n",
              "↪   m₁⋅ω⋅sin(β)⎞⎞       │ \n",
              "↪ - ───────────⎟⎟⋅cos(θ)│ \n",
              "↪       c⋅ρ    ⎠⎠       │ \n",
              "↪ ──────────────────────│ \n",
              "↪                       │ "
            ],
            "text/latex": "$\\displaystyle \\frac{4}{\\left|{\\frac{i \\sin{\\left(\\beta \\right)}}{\\cos{\\left(\\theta \\right)}} + 2 \\cos{\\left(\\beta \\right)} - \\frac{m_{1} \\omega \\sin{\\left(\\beta \\right)}}{c \\rho} - \\frac{m_{2} \\omega \\sin{\\left(\\beta \\right)}}{c \\rho} + \\frac{\\left(i c \\rho \\sin{\\left(\\beta \\right)} + i m_{1} \\omega \\cos{\\left(\\beta \\right)} + i m_{2} \\omega \\left(\\cos{\\left(\\beta \\right)} - \\frac{m_{1} \\omega \\sin{\\left(\\beta \\right)}}{c \\rho}\\right)\\right) \\cos{\\left(\\theta \\right)}}{c \\rho}}\\right|^{2}}$"
          },
          "metadata": {}
        }
      ]
    },
    {
      "cell_type": "code",
      "source": [
        "TL_theta = 10 * sp.log(1 / tau_theta)\n",
        "display('TL_theta =',TL_theta)"
      ],
      "metadata": {
        "colab": {
          "base_uri": "https://localhost:8080/",
          "height": 129
        },
        "id": "wLhOsPEQL9Av",
        "outputId": "be28253e-f2b8-4940-da6f-475f700c048c"
      },
      "execution_count": 153,
      "outputs": [
        {
          "output_type": "display_data",
          "data": {
            "text/plain": [
              "'TL_theta ='"
            ],
            "application/vnd.google.colaboratory.intrinsic+json": {
              "type": "string"
            }
          },
          "metadata": {}
        },
        {
          "output_type": "display_data",
          "data": {
            "text/plain": [
              "      ⎛                                                                                            ↪\n",
              "      ⎜│                                                  ⎛                                      ⎛ ↪\n",
              "      ⎜│                                                  ⎜ⅈ⋅c⋅ρ⋅sin(β) + ⅈ⋅m₁⋅ω⋅cos(β) + ⅈ⋅m₂⋅ω⋅⎜ ↪\n",
              "      ⎜│ⅈ⋅sin(β)              m₁⋅ω⋅sin(β)   m₂⋅ω⋅sin(β)   ⎝                                      ⎝ ↪\n",
              "      ⎜│──────── + 2⋅cos(β) - ─────────── - ─────────── + ──────────────────────────────────────── ↪\n",
              "      ⎜│ cos(θ)                   c⋅ρ           c⋅ρ                                        c⋅ρ     ↪\n",
              "10⋅log⎜─────────────────────────────────────────────────────────────────────────────────────────── ↪\n",
              "      ⎝                                                            4                               ↪\n",
              "\n",
              "↪                               2⎞\n",
              "↪          m₁⋅ω⋅sin(β)⎞⎞       │ ⎟\n",
              "↪ cos(β) - ───────────⎟⎟⋅cos(θ)│ ⎟\n",
              "↪              c⋅ρ    ⎠⎠       │ ⎟\n",
              "↪ ─────────────────────────────│ ⎟\n",
              "↪                              │ ⎟\n",
              "↪ ───────────────────────────────⎟\n",
              "↪                                ⎠"
            ],
            "text/latex": "$\\displaystyle 10 \\log{\\left(\\frac{\\left|{\\frac{i \\sin{\\left(\\beta \\right)}}{\\cos{\\left(\\theta \\right)}} + 2 \\cos{\\left(\\beta \\right)} - \\frac{m_{1} \\omega \\sin{\\left(\\beta \\right)}}{c \\rho} - \\frac{m_{2} \\omega \\sin{\\left(\\beta \\right)}}{c \\rho} + \\frac{\\left(i c \\rho \\sin{\\left(\\beta \\right)} + i m_{1} \\omega \\cos{\\left(\\beta \\right)} + i m_{2} \\omega \\left(\\cos{\\left(\\beta \\right)} - \\frac{m_{1} \\omega \\sin{\\left(\\beta \\right)}}{c \\rho}\\right)\\right) \\cos{\\left(\\theta \\right)}}{c \\rho}}\\right|^{2}}{4} \\right)}$"
          },
          "metadata": {}
        }
      ]
    },
    {
      "cell_type": "code",
      "source": [
        "\n",
        "\n",
        "Answer = 10 * sp.log(1 + ((omega / (2 * rho * c * sp.cos(theta))) ** 2) * ((m_1 + m_2) * sp.cos(beta) - (omega / (rho * c * sp.cos(theta))) * m_1 * m_2 * sp.sin(beta)) ** 2 + ((omega / (2 * rho * c * sp.cos(theta))) ** 2) * ((m_1 - m_2) ** 2) * (sp.sin(beta)) ** 2)\n",
        "display('Answer =',Answer)"
      ],
      "metadata": {
        "colab": {
          "base_uri": "https://localhost:8080/",
          "height": 107
        },
        "id": "m8GWne0aP_54",
        "outputId": "af3c66d9-0320-42f4-88e6-f8c5120b7c2a"
      },
      "execution_count": 154,
      "outputs": [
        {
          "output_type": "display_data",
          "data": {
            "text/plain": [
              "'Answer ='"
            ],
            "application/vnd.google.colaboratory.intrinsic+json": {
              "type": "string"
            }
          },
          "metadata": {}
        },
        {
          "output_type": "display_data",
          "data": {
            "text/plain": [
              "      ⎛                                                                  2⎞\n",
              "      ⎜                             2 ⎛                   m₁⋅m₂⋅ω⋅sin(β)⎞ ⎟\n",
              "      ⎜     2          2    2      ω ⋅⎜(m₁ + m₂)⋅cos(β) - ──────────────⎟ ⎟\n",
              "      ⎜    ω ⋅(m₁ - m₂) ⋅sin (β)      ⎝                     c⋅ρ⋅cos(θ)  ⎠ ⎟\n",
              "10⋅log⎜1 + ───────────────────── + ───────────────────────────────────────⎟\n",
              "      ⎜          2  2    2                        2  2    2               ⎟\n",
              "      ⎝       4⋅c ⋅ρ ⋅cos (θ)                  4⋅c ⋅ρ ⋅cos (θ)            ⎠"
            ],
            "text/latex": "$\\displaystyle 10 \\log{\\left(1 + \\frac{\\omega^{2} \\left(m_{1} - m_{2}\\right)^{2} \\sin^{2}{\\left(\\beta \\right)}}{4 c^{2} \\rho^{2} \\cos^{2}{\\left(\\theta \\right)}} + \\frac{\\omega^{2} \\left(\\left(m_{1} + m_{2}\\right) \\cos{\\left(\\beta \\right)} - \\frac{m_{1} m_{2} \\omega \\sin{\\left(\\beta \\right)}}{c \\rho \\cos{\\left(\\theta \\right)}}\\right)^{2}}{4 c^{2} \\rho^{2} \\cos^{2}{\\left(\\theta \\right)}} \\right)}$"
          },
          "metadata": {}
        }
      ]
    },
    {
      "cell_type": "code",
      "source": [
        "print(bool(TL_theta == Answer))"
      ],
      "metadata": {
        "colab": {
          "base_uri": "https://localhost:8080/"
        },
        "id": "m5nJOPmBSiBU",
        "outputId": "4254f636-aa38-4b87-eee2-3b309efeb37a"
      },
      "execution_count": 155,
      "outputs": [
        {
          "output_type": "stream",
          "name": "stdout",
          "text": [
            "False\n"
          ]
        }
      ]
    },
    {
      "cell_type": "code",
      "source": [
        "if TL_theta == Answer:\n",
        "    print('OK')\n",
        "else:\n",
        "    print('NG')"
      ],
      "metadata": {
        "colab": {
          "base_uri": "https://localhost:8080/"
        },
        "id": "_MJH0MXaTo1S",
        "outputId": "36549d64-72ae-4271-970c-94a43c6483c2"
      },
      "execution_count": 149,
      "outputs": [
        {
          "output_type": "stream",
          "name": "stdout",
          "text": [
            "NG\n"
          ]
        }
      ]
    },
    {
      "cell_type": "code",
      "source": [
        "sp.expand(TL_theta)"
      ],
      "metadata": {
        "colab": {
          "base_uri": "https://localhost:8080/",
          "height": 88
        },
        "id": "jKN94PpQPaRw",
        "outputId": "5763148b-2ec7-4d04-f56f-b314d11ea5f9"
      },
      "execution_count": 113,
      "outputs": [
        {
          "output_type": "execute_result",
          "data": {
            "text/plain": [
              "      ⎛                                                                                            ↪\n",
              "      ⎜│                                         2                2                                ↪\n",
              "      ⎜│                  j⋅sin(β)              j ⋅m₁⋅ω⋅sin(β)   j ⋅m₂⋅ω⋅sin(β)   j⋅m₁⋅ω⋅cos(β)⋅co ↪\n",
              "10⋅log⎜│j⋅sin(β)⋅cos(θ) + ──────── + 2⋅cos(β) + ────────────── + ────────────── + ──────────────── ↪\n",
              "      ⎜│                   cos(θ)                    c⋅ρ              c⋅ρ                 c⋅ρ      ↪\n",
              "      ⎝│                                                                                           ↪\n",
              "\n",
              "↪                                                         2⎞            \n",
              "↪                                3        2              │ ⎟            \n",
              "↪ s(θ)   j⋅m₂⋅ω⋅cos(β)⋅cos(θ)   j ⋅m₁⋅m₂⋅ω ⋅sin(β)⋅cos(θ)│ ⎟            \n",
              "↪ ──── + ──────────────────── + ─────────────────────────│ ⎟ - 20⋅log(2)\n",
              "↪                c⋅ρ                       2  2          │ ⎟            \n",
              "↪                                         c ⋅ρ           │ ⎠            "
            ],
            "text/latex": "$\\displaystyle 10 \\log{\\left(\\left|{j \\sin{\\left(\\beta \\right)} \\cos{\\left(\\theta \\right)} + \\frac{j \\sin{\\left(\\beta \\right)}}{\\cos{\\left(\\theta \\right)}} + 2 \\cos{\\left(\\beta \\right)} + \\frac{j^{2} m_{1} \\omega \\sin{\\left(\\beta \\right)}}{c \\rho} + \\frac{j^{2} m_{2} \\omega \\sin{\\left(\\beta \\right)}}{c \\rho} + \\frac{j m_{1} \\omega \\cos{\\left(\\beta \\right)} \\cos{\\left(\\theta \\right)}}{c \\rho} + \\frac{j m_{2} \\omega \\cos{\\left(\\beta \\right)} \\cos{\\left(\\theta \\right)}}{c \\rho} + \\frac{j^{3} m_{1} m_{2} \\omega^{2} \\sin{\\left(\\beta \\right)} \\cos{\\left(\\theta \\right)}}{c^{2} \\rho^{2}}}\\right|^{2} \\right)} - 20 \\log{\\left(2 \\right)}$"
          },
          "metadata": {},
          "execution_count": 113
        }
      ]
    },
    {
      "cell_type": "markdown",
      "source": [
        "### 実施に数値入れて計算してみる"
      ],
      "metadata": {
        "id": "BhPmyNmxI-7X"
      }
    },
    {
      "cell_type": "code",
      "source": [
        "\n",
        "F_air = np.array(([expand(cos(beta)), j * rho * expand(sin(beta))],\n",
        "                  [j / rho / c * expand(sin(beta)), expand(cos(beta))]))\n",
        "print(F_air)"
      ],
      "metadata": {
        "colab": {
          "base_uri": "https://localhost:8080/"
        },
        "id": "9L3AVNnz6y7l",
        "outputId": "9b23d12e-51eb-4944-94f4-0e304e36c25f"
      },
      "execution_count": 65,
      "outputs": [
        {
          "output_type": "stream",
          "name": "stdout",
          "text": [
            "[[cos(beta) j*rho*sin(beta)]\n",
            " [j*sin(beta)/(c*rho) cos(beta)]]\n"
          ]
        }
      ]
    },
    {
      "cell_type": "code",
      "source": [
        "beta = 1\n",
        "j = 1\n",
        "rho = 1\n",
        "c = 1\n",
        "\n",
        "F_air = np.array([[np.cos(beta), j * rho * np.sin(beta)],\n",
        "                  [j / rho / c * np.sin(beta), np.cos(beta)]])\n",
        "print(F_air)"
      ],
      "metadata": {
        "colab": {
          "base_uri": "https://localhost:8080/",
          "height": 297
        },
        "id": "Y1xP55Yqwsvu",
        "outputId": "341399c8-cb73-43a2-806e-a49d0189a88a"
      },
      "execution_count": 33,
      "outputs": [
        {
          "output_type": "error",
          "ename": "TypeError",
          "evalue": "loop of ufunc does not support argument 0 of type Symbol which has no callable cos method",
          "traceback": [
            "\u001b[0;31m---------------------------------------------------------------------------\u001b[0m",
            "\u001b[0;31mAttributeError\u001b[0m                            Traceback (most recent call last)",
            "\u001b[0;31mAttributeError\u001b[0m: 'Symbol' object has no attribute 'cos'",
            "\nThe above exception was the direct cause of the following exception:\n",
            "\u001b[0;31mTypeError\u001b[0m                                 Traceback (most recent call last)",
            "\u001b[0;32m<ipython-input-33-e5772ce515b1>\u001b[0m in \u001b[0;36m<cell line: 6>\u001b[0;34m()\u001b[0m\n\u001b[1;32m      4\u001b[0m \u001b[0mc\u001b[0m \u001b[0;34m=\u001b[0m \u001b[0;36m1\u001b[0m\u001b[0;34m\u001b[0m\u001b[0;34m\u001b[0m\u001b[0m\n\u001b[1;32m      5\u001b[0m \u001b[0;34m\u001b[0m\u001b[0m\n\u001b[0;32m----> 6\u001b[0;31m F_air = np.array([[np.cos(beta), j * rho * np.sin(beta)],\n\u001b[0m\u001b[1;32m      7\u001b[0m                   [j / rho / c * np.sin(beta), np.cos(beta)]])\n\u001b[1;32m      8\u001b[0m \u001b[0mprint\u001b[0m\u001b[0;34m(\u001b[0m\u001b[0mF_air\u001b[0m\u001b[0;34m)\u001b[0m\u001b[0;34m\u001b[0m\u001b[0;34m\u001b[0m\u001b[0m\n",
            "\u001b[0;31mTypeError\u001b[0m: loop of ufunc does not support argument 0 of type Symbol which has no callable cos method"
          ]
        }
      ]
    },
    {
      "cell_type": "code",
      "source": [],
      "metadata": {
        "id": "k23CZ6v1zLID"
      },
      "execution_count": 15,
      "outputs": []
    }
  ],
  "metadata": {
    "colab": {
      "name": "Colaboratory へようこそ",
      "toc_visible": true,
      "provenance": [],
      "include_colab_link": true
    },
    "kernelspec": {
      "display_name": "Python 3",
      "name": "python3"
    }
  },
  "nbformat": 4,
  "nbformat_minor": 0
}